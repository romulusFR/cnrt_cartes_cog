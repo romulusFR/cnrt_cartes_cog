{
 "cells": [
  {
   "cell_type": "markdown",
   "metadata": {},
   "source": [
    "# Notes sur les cartes cognitives sur la commune de Thion\n",
    "\n",
    "En lien avec le travail de Gregory W."
   ]
  },
  {
   "cell_type": "markdown",
   "metadata": {},
   "source": [
    "## Chargement des données\n",
    "\n",
    "### Profils des répondants\n",
    "\n",
    "Contenu des données profils sur la commune de Thio"
   ]
  },
  {
   "cell_type": "code",
   "execution_count": 1,
   "metadata": {},
   "outputs": [
    {
     "name": "stdout",
     "output_type": "stream",
     "text": [
      "<class 'pandas.core.frame.DataFrame'>\n",
      "Int64Index: 20 entries, 1 to 44\n",
      "Data columns (total 18 columns):\n",
      " #   Column                       Non-Null Count  Dtype            \n",
      "---  ------                       --------------  -----            \n",
      " 0   date                         20 non-null     datetime64[ns]   \n",
      " 1   commune_enquete              20 non-null     object           \n",
      " 2   travail_mine                 20 non-null     bool             \n",
      " 3   duree_travail_mine           5 non-null      float64          \n",
      " 4   famille_mine                 20 non-null     bool             \n",
      " 5   habitant_nc                  20 non-null     bool             \n",
      " 6   duree_presence_nc            3 non-null      float64          \n",
      " 7   commune_residence            20 non-null     object           \n",
      " 8   commune_miniere              20 non-null     object           \n",
      " 9   duree_residence              20 non-null     float64          \n",
      " 10  habite_ailleurs_nc           20 non-null     bool             \n",
      " 11  age                          20 non-null     float64          \n",
      " 12  genre                        20 non-null     object           \n",
      " 13  age_interval                 20 non-null     interval[float64]\n",
      " 14  duree_residence_interval     20 non-null     interval[float64]\n",
      " 15  duree_presence_nc_interval   3 non-null      interval[float64]\n",
      " 16  duree_travail_mine_interval  5 non-null      interval[float64]\n",
      " 17  depend_mine                  20 non-null     bool             \n",
      "dtypes: bool(5), datetime64[ns](1), float64(4), interval(4), object(4)\n",
      "memory usage: 2.9+ KB\n",
      "None\n"
     ]
    },
    {
     "name": "stderr",
     "output_type": "stream",
     "text": [
      "<ipython-input-1-3b7014562153>:19: SettingWithCopyWarning: \n",
      "A value is trying to be set on a copy of a slice from a DataFrame.\n",
      "Try using .loc[row_indexer,col_indexer] = value instead\n",
      "\n",
      "See the caveats in the documentation: https://pandas.pydata.org/pandas-docs/stable/user_guide/indexing.html#returning-a-view-versus-a-copy\n",
      "  df_profils[\"depend_mine\"] = df_profils[\"travail_mine\"] | df_profils[\"famille_mine\"]\n"
     ]
    }
   ],
   "source": [
    "from IPython.display import display\n",
    "\n",
    "import logging\n",
    "from pathlib import Path\n",
    "\n",
    "import seaborn as sns\n",
    "import matplotlib.pyplot as plt\n",
    "import pandas as pd\n",
    "\n",
    "import personnal_data_anonymizer as loader\n",
    "\n",
    "logging.basicConfig(level=logging.WARNING)\n",
    "BASE_DIR = Path(\"thio\")\n",
    "\n",
    "# chargement du csv des profils des répondants\n",
    "df_profils_tous = loader.get_data(loader.PERSONAL_DATA_FILE, drop=False)\n",
    "df_profils = df_profils_tous[(df_profils_tous[\"commune_enquete\"].str.lower() == \"thio\")  | (df_profils_tous[\"commune_residence\"].str.lower() == \"thio\")]\n",
    "# on crée une colonne \"depend_mine\" pour les individus pour lesquels soit eux-mêmes soit un membre de la famille proche travaille dans la mine.\n",
    "df_profils[\"depend_mine\"] = df_profils[\"travail_mine\"] | df_profils[\"famille_mine\"]\n",
    "df_profils.to_csv(BASE_DIR / \"profils_thio.csv\")\n",
    "\n",
    "print(df_profils.info(show_counts=True, verbose=True))"
   ]
  },
  {
   "cell_type": "markdown",
   "metadata": {},
   "source": [
    "## Cartes cognitives et thésaurus\n",
    "\n",
    "On charge le sous-ensembles des cartes _la mine_ et _la mine dans le futur_ pour la commune de Thio.\n",
    "Ici le critère est soit :\n",
    "\n",
    "- que l'enquête est faite à Thio (19),\n",
    "- soit que le répondant habite à Thio (1)\n",
    "\n",
    "On applique aussi sur chaque carte le remplacement pour chacun des 4 niveaux (base, concept, mère, grand mère) du thesaurus.\n",
    "On obtient ainsi _8 fichiers CSV_."
   ]
  },
  {
   "cell_type": "code",
   "execution_count": 2,
   "metadata": {},
   "outputs": [],
   "source": [
    "from cog_maps import CogMaps, THESAURUS_FILENAME, CM_LA_MINE_FILENAME, CM_FUTUR_FILENAME\n",
    "\n",
    "thesaurus = CogMaps.load_thesaurus_map(THESAURUS_FILENAME)\n",
    "cg_mine = CogMaps(CM_LA_MINE_FILENAME)\n",
    "cg_mine.thesaurus = thesaurus\n",
    "cg_mine.partition = df_profils.index.to_list()\n",
    "\n",
    "thesaurus = CogMaps.load_thesaurus_map(THESAURUS_FILENAME)\n",
    "cg_futur = CogMaps(CM_FUTUR_FILENAME)\n",
    "cg_futur.thesaurus = thesaurus\n",
    "cg_futur.partition = df_profils.index.to_list()\n",
    "\n",
    "cg_mine_all, _ = cg_mine.apply_many(thesaurus)\n",
    "for level in cg_mine_all:\n",
    "    cg_mine_all[level].dump(BASE_DIR / f\"thio_mine_{level}.csv\")\n",
    "cg_futur_all, _ = cg_futur.apply_many(thesaurus)\n",
    "for level in cg_futur_all:\n",
    "    cg_futur_all[level].dump(BASE_DIR /  f\"cg_thio_futur_{level}.csv\")"
   ]
  },
  {
   "cell_type": "markdown",
   "metadata": {},
   "source": [
    "## Typologie des répondants\n"
   ]
  },
  {
   "cell_type": "code",
   "execution_count": 3,
   "metadata": {},
   "outputs": [
    {
     "name": "stdout",
     "output_type": "stream",
     "text": [
      "Age moyen : 41.65 sur 20 répondants\n"
     ]
    },
    {
     "data": {
      "image/png": "[encoded data removed]",
      "text/plain": [
       "<Figure size 432x288 with 1 Axes>"
      ]
     },
     "metadata": {
      "needs_background": "light"
     },
     "output_type": "display_data"
    }
   ],
   "source": [
    "df_profils.value_counts(subset=[\"depend_mine\", \"commune_miniere\"], sort=False)\n",
    "sns.histplot(df_profils, x=\"age\")\n",
    "# plt.axvline(x=df_profils[\"age\"].mean(), color=\"red\")\n",
    "print(f\"Age moyen : {df_profils['age'].mean()} sur {len(df_profils)} répondants\")\n"
   ]
  }
 ],
 "metadata": {
  "interpreter": {
   "hash": "36cf16204b8548560b1c020c4e8fb5b57f0e4c58016f52f2d4be01e192833930"
  },
  "kernelspec": {
   "display_name": "Python 3.9.9 64-bit",
   "language": "python",
   "name": "python3"
  },
  "language_info": {
   "codemirror_mode": {
    "name": "ipython",
    "version": 3
   },
   "file_extension": ".py",
   "mimetype": "text/x-python",
   "name": "python",
   "nbconvert_exporter": "python",
   "pygments_lexer": "ipython3",
   "version": "3.9.9"
  },
  "orig_nbformat": 4
 },
 "nbformat": 4,
 "nbformat_minor": 2
}
