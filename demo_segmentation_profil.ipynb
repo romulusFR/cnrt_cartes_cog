{
 "cells": [
  {
   "cell_type": "markdown",
   "source": [
    "# Test de segmentation des cartes selon le profil du répondant\r\n",
    "\r\n",
    "**Important** nécessite le fichier des données personnelles qui n'est _pas_ versionné dans le dépôt."
   ],
   "metadata": {}
  },
  {
   "cell_type": "code",
   "execution_count": 1,
   "source": [
    "from IPython.display import display\r\n",
    "\r\n",
    "import seaborn as sns\r\n",
    "\r\n",
    "from anonymizer import get_data, PERSONAL_DATA_FILE\r\n",
    "\r\n",
    "\r\n",
    "# les data\r\n",
    "df = get_data(PERSONAL_DATA_FILE, drop=False) \r\n",
    "# ajout des colonnes jeunes/vieux\r\n",
    "df[\"inf_25_ans\"] = df[\"age\"] < 25\r\n",
    "df[\"inf_35_ans\"] = df[\"age\"] < 35\r\n",
    "df[\"depend_mine\"] = df[\"travail_mine\"] | df[\"famille_mine\"]"
   ],
   "outputs": [],
   "metadata": {}
  },
  {
   "cell_type": "code",
   "execution_count": 2,
   "source": [
    "df.columns"
   ],
   "outputs": [
    {
     "output_type": "execute_result",
     "data": {
      "text/plain": [
       "Index(['date', 'commune_enquete', 'travail_mine', 'duree_travail_mine',\n",
       "       'famille_mine', 'habitant_nc', 'duree_presence_nc', 'commune_residence',\n",
       "       'commune_miniere', 'duree_residence', 'habite_ailleurs_nc', 'age',\n",
       "       'genre', 'age_interval', 'duree_residence_interval',\n",
       "       'duree_presence_nc_interval', 'duree_travail_mine_interval',\n",
       "       'inf_25_ans', 'inf_35_ans', 'depend_mine'],\n",
       "      dtype='object')"
      ]
     },
     "metadata": {},
     "execution_count": 2
    }
   ],
   "metadata": {}
  },
  {
   "cell_type": "code",
   "execution_count": 3,
   "source": [
    "# df.groupby([\"travail_mine\", \"famille_mine\"]).count()\r\n",
    "df.value_counts(subset=[\"travail_mine\", \"famille_mine\"], sort = False)"
   ],
   "outputs": [
    {
     "output_type": "execute_result",
     "data": {
      "text/plain": [
       "travail_mine  famille_mine\n",
       "False         False           115\n",
       "              True            232\n",
       "True          False            11\n",
       "              True             46\n",
       "dtype: int64"
      ]
     },
     "metadata": {},
     "execution_count": 3
    }
   ],
   "metadata": {}
  },
  {
   "cell_type": "code",
   "execution_count": 4,
   "source": [
    "df.value_counts(subset=[\"depend_mine\", \"commune_miniere\", \"inf_35_ans\"], sort = False)"
   ],
   "outputs": [
    {
     "output_type": "execute_result",
     "data": {
      "text/plain": [
       "depend_mine  commune_miniere  inf_35_ans\n",
       "False        Minière          False          9\n",
       "                              True          28\n",
       "             Mixte            False          4\n",
       "                              True          41\n",
       "             Non minière      False          5\n",
       "                              True          28\n",
       "True         Minière          False         36\n",
       "                              True          74\n",
       "             Mixte            False         10\n",
       "                              True          60\n",
       "             Non minière      False         19\n",
       "                              True          89\n",
       "dtype: int64"
      ]
     },
     "metadata": {},
     "execution_count": 4
    }
   ],
   "metadata": {}
  },
  {
   "cell_type": "code",
   "execution_count": 5,
   "source": [
    "# df.groupby([\"age_interval\"]).count()\r\n",
    "df.value_counts(subset=[\"age_interval\"], sort = False)"
   ],
   "outputs": [
    {
     "output_type": "execute_result",
     "data": {
      "text/plain": [
       "age_interval\n",
       "[10.0, 20.0)    158\n",
       "[20.0, 30.0)    152\n",
       "[30.0, 40.0)     20\n",
       "[40.0, 50.0)     23\n",
       "[50.0, 60.0)     34\n",
       "[60.0, 70.0)     10\n",
       "[70.0, 80.0)      4\n",
       "[80.0, 90.0)      2\n",
       "dtype: int64"
      ]
     },
     "metadata": {},
     "execution_count": 5
    }
   ],
   "metadata": {}
  },
  {
   "cell_type": "code",
   "execution_count": 6,
   "source": [
    "sns.histplot(df[\"age\"])"
   ],
   "outputs": [
    {
     "output_type": "execute_result",
     "data": {
      "text/plain": [
       "<AxesSubplot:xlabel='age', ylabel='Count'>"
      ]
     },
     "metadata": {},
     "execution_count": 6
    },
    {
     "output_type": "display_data",
     "data": {
      "image/png": "[encoded data removed]",
      "text/plain": [
       "<Figure size 432x288 with 1 Axes>"
      ]
     },
     "metadata": {
      "needs_background": "light"
     }
    }
   ],
   "metadata": {}
  },
  {
   "cell_type": "code",
   "execution_count": 7,
   "source": [
    "sns.histplot(df[\"duree_residence\"])"
   ],
   "outputs": [
    {
     "output_type": "execute_result",
     "data": {
      "text/plain": [
       "<AxesSubplot:xlabel='duree_residence', ylabel='Count'>"
      ]
     },
     "metadata": {},
     "execution_count": 7
    },
    {
     "output_type": "display_data",
     "data": {
      "image/png": "[encoded data removed]",
      "text/plain": [
       "<Figure size 432x288 with 1 Axes>"
      ]
     },
     "metadata": {
      "needs_background": "light"
     }
    }
   ],
   "metadata": {}
  },
  {
   "cell_type": "code",
   "execution_count": 15,
   "source": [
    "sns.histplot(df[\"duree_travail_mine\"])"
   ],
   "outputs": [
    {
     "output_type": "execute_result",
     "data": {
      "text/plain": [
       "<AxesSubplot:xlabel='duree_travail_mine', ylabel='Count'>"
      ]
     },
     "metadata": {},
     "execution_count": 15
    },
    {
     "output_type": "display_data",
     "data": {
      "image/png": "[encoded data removed]",
      "text/plain": [
       "<Figure size 432x288 with 1 Axes>"
      ]
     },
     "metadata": {
      "needs_background": "light"
     }
    }
   ],
   "metadata": {}
  },
  {
   "cell_type": "code",
   "execution_count": 16,
   "source": [
    "sns.histplot(df[\"duree_presence_nc\"])"
   ],
   "outputs": [
    {
     "output_type": "execute_result",
     "data": {
      "text/plain": [
       "<AxesSubplot:xlabel='duree_presence_nc', ylabel='Count'>"
      ]
     },
     "metadata": {},
     "execution_count": 16
    },
    {
     "output_type": "display_data",
     "data": {
      "image/png": "[encoded data removed]",
      "text/plain": [
       "<Figure size 432x288 with 1 Axes>"
      ]
     },
     "metadata": {
      "needs_background": "light"
     }
    }
   ],
   "metadata": {}
  },
  {
   "cell_type": "code",
   "execution_count": 21,
   "source": [
    "import matplotlib.pyplot as plt\r\n",
    "plt.axis('equal')\r\n",
    "sns.scatterplot(data=df, x=\"age\", y=\"duree_presence_nc\", hue=\"travail_mine\")"
   ],
   "outputs": [
    {
     "output_type": "execute_result",
     "data": {
      "text/plain": [
       "<AxesSubplot:xlabel='age', ylabel='duree_presence_nc'>"
      ]
     },
     "metadata": {},
     "execution_count": 21
    },
    {
     "output_type": "display_data",
     "data": {
      "image/png": "[encoded data removed]",
      "text/plain": [
       "<Figure size 432x288 with 1 Axes>"
      ]
     },
     "metadata": {
      "needs_background": "light"
     }
    }
   ],
   "metadata": {}
  },
  {
   "cell_type": "code",
   "execution_count": 54,
   "source": [],
   "outputs": [],
   "metadata": {}
  },
  {
   "cell_type": "code",
   "execution_count": 69,
   "source": [
    "# df2 = df.groupby([\"age_interval\", \"genre\"]).count()\r\n",
    "df2 = df[df[\"genre\"] != \"Autre\"].value_counts(subset=[\"age_interval\", \"genre\"], sort = False).to_frame(\"count\").reset_index()\r\n",
    "df2\r\n"
   ],
   "outputs": [
    {
     "output_type": "execute_result",
     "data": {
      "text/html": [
       "<div>\n",
       "<style scoped>\n",
       "    .dataframe tbody tr th:only-of-type {\n",
       "        vertical-align: middle;\n",
       "    }\n",
       "\n",
       "    .dataframe tbody tr th {\n",
       "        vertical-align: top;\n",
       "    }\n",
       "\n",
       "    .dataframe thead th {\n",
       "        text-align: right;\n",
       "    }\n",
       "</style>\n",
       "<table border=\"1\" class=\"dataframe\">\n",
       "  <thead>\n",
       "    <tr style=\"text-align: right;\">\n",
       "      <th></th>\n",
       "      <th>age_interval</th>\n",
       "      <th>genre</th>\n",
       "      <th>count</th>\n",
       "    </tr>\n",
       "  </thead>\n",
       "  <tbody>\n",
       "    <tr>\n",
       "      <th>0</th>\n",
       "      <td>[10.0, 20.0)</td>\n",
       "      <td>Femme</td>\n",
       "      <td>98</td>\n",
       "    </tr>\n",
       "    <tr>\n",
       "      <th>1</th>\n",
       "      <td>[10.0, 20.0)</td>\n",
       "      <td>Homme</td>\n",
       "      <td>57</td>\n",
       "    </tr>\n",
       "    <tr>\n",
       "      <th>2</th>\n",
       "      <td>[20.0, 30.0)</td>\n",
       "      <td>Femme</td>\n",
       "      <td>84</td>\n",
       "    </tr>\n",
       "    <tr>\n",
       "      <th>3</th>\n",
       "      <td>[20.0, 30.0)</td>\n",
       "      <td>Homme</td>\n",
       "      <td>67</td>\n",
       "    </tr>\n",
       "    <tr>\n",
       "      <th>4</th>\n",
       "      <td>[30.0, 40.0)</td>\n",
       "      <td>Femme</td>\n",
       "      <td>10</td>\n",
       "    </tr>\n",
       "    <tr>\n",
       "      <th>5</th>\n",
       "      <td>[30.0, 40.0)</td>\n",
       "      <td>Homme</td>\n",
       "      <td>10</td>\n",
       "    </tr>\n",
       "    <tr>\n",
       "      <th>6</th>\n",
       "      <td>[40.0, 50.0)</td>\n",
       "      <td>Femme</td>\n",
       "      <td>17</td>\n",
       "    </tr>\n",
       "    <tr>\n",
       "      <th>7</th>\n",
       "      <td>[40.0, 50.0)</td>\n",
       "      <td>Homme</td>\n",
       "      <td>6</td>\n",
       "    </tr>\n",
       "    <tr>\n",
       "      <th>8</th>\n",
       "      <td>[50.0, 60.0)</td>\n",
       "      <td>Femme</td>\n",
       "      <td>13</td>\n",
       "    </tr>\n",
       "    <tr>\n",
       "      <th>9</th>\n",
       "      <td>[50.0, 60.0)</td>\n",
       "      <td>Homme</td>\n",
       "      <td>21</td>\n",
       "    </tr>\n",
       "    <tr>\n",
       "      <th>10</th>\n",
       "      <td>[60.0, 70.0)</td>\n",
       "      <td>Femme</td>\n",
       "      <td>4</td>\n",
       "    </tr>\n",
       "    <tr>\n",
       "      <th>11</th>\n",
       "      <td>[60.0, 70.0)</td>\n",
       "      <td>Homme</td>\n",
       "      <td>6</td>\n",
       "    </tr>\n",
       "    <tr>\n",
       "      <th>12</th>\n",
       "      <td>[70.0, 80.0)</td>\n",
       "      <td>Femme</td>\n",
       "      <td>1</td>\n",
       "    </tr>\n",
       "    <tr>\n",
       "      <th>13</th>\n",
       "      <td>[70.0, 80.0)</td>\n",
       "      <td>Homme</td>\n",
       "      <td>3</td>\n",
       "    </tr>\n",
       "    <tr>\n",
       "      <th>14</th>\n",
       "      <td>[80.0, 90.0)</td>\n",
       "      <td>Femme</td>\n",
       "      <td>1</td>\n",
       "    </tr>\n",
       "    <tr>\n",
       "      <th>15</th>\n",
       "      <td>[80.0, 90.0)</td>\n",
       "      <td>Homme</td>\n",
       "      <td>1</td>\n",
       "    </tr>\n",
       "  </tbody>\n",
       "</table>\n",
       "</div>"
      ],
      "text/plain": [
       "    age_interval  genre  count\n",
       "0   [10.0, 20.0)  Femme     98\n",
       "1   [10.0, 20.0)  Homme     57\n",
       "2   [20.0, 30.0)  Femme     84\n",
       "3   [20.0, 30.0)  Homme     67\n",
       "4   [30.0, 40.0)  Femme     10\n",
       "5   [30.0, 40.0)  Homme     10\n",
       "6   [40.0, 50.0)  Femme     17\n",
       "7   [40.0, 50.0)  Homme      6\n",
       "8   [50.0, 60.0)  Femme     13\n",
       "9   [50.0, 60.0)  Homme     21\n",
       "10  [60.0, 70.0)  Femme      4\n",
       "11  [60.0, 70.0)  Homme      6\n",
       "12  [70.0, 80.0)  Femme      1\n",
       "13  [70.0, 80.0)  Homme      3\n",
       "14  [80.0, 90.0)  Femme      1\n",
       "15  [80.0, 90.0)  Homme      1"
      ]
     },
     "metadata": {},
     "execution_count": 69
    }
   ],
   "metadata": {}
  },
  {
   "cell_type": "code",
   "execution_count": 68,
   "source": [
    "sns.barplot(data=df2, x='count',y='age_interval', hue='genre',orient='horizontal',  dodge=True)"
   ],
   "outputs": [
    {
     "output_type": "execute_result",
     "data": {
      "text/plain": [
       "<AxesSubplot:xlabel='count', ylabel='age_interval'>"
      ]
     },
     "metadata": {},
     "execution_count": 68
    },
    {
     "output_type": "display_data",
     "data": {
      "image/png": "[encoded data removed]",
      "text/plain": [
       "<Figure size 432x288 with 1 Axes>"
      ]
     },
     "metadata": {
      "needs_background": "light"
     }
    }
   ],
   "metadata": {}
  },
  {
   "cell_type": "code",
   "execution_count": 8,
   "source": [
    "partition = { True : list(df[df.travail_mine].index), False: list(df[~ df.travail_mine].index) }\r\n",
    "print(partition)\r\n",
    "for key, vals in partition.items():\r\n",
    "    print(key, len(vals))"
   ],
   "outputs": [
    {
     "output_type": "stream",
     "name": "stdout",
     "text": [
      "{True: [5, 8, 17, 19, 20, 23, 26, 27, 29, 30, 31, 32, 33, 34, 37, 38, 39, 42, 46, 47, 53, 55, 57, 58, 61, 74, 103, 106, 150, 184, 191, 230, 246, 256, 283, 289, 292, 294, 301, 302, 333, 336, 356, 357, 369, 371, 372, 374, 385, 389, 390, 391, 392, 393, 399, 401, 408], False: [1, 2, 4, 6, 7, 9, 10, 11, 12, 13, 14, 15, 16, 21, 22, 24, 25, 28, 35, 36, 41, 43, 44, 48, 49, 50, 51, 52, 54, 56, 59, 60, 62, 63, 65, 67, 68, 69, 70, 71, 72, 73, 76, 77, 81, 82, 83, 84, 85, 86, 87, 88, 89, 90, 91, 92, 93, 94, 95, 96, 97, 98, 99, 100, 101, 102, 104, 105, 107, 108, 109, 110, 111, 112, 113, 114, 115, 116, 117, 118, 119, 120, 121, 122, 123, 124, 125, 126, 127, 128, 129, 130, 131, 132, 133, 134, 135, 136, 137, 138, 139, 140, 141, 142, 143, 144, 145, 146, 147, 148, 149, 151, 152, 153, 154, 155, 156, 157, 158, 159, 160, 161, 162, 163, 164, 165, 166, 167, 168, 169, 170, 171, 172, 173, 174, 175, 176, 177, 178, 179, 180, 181, 182, 183, 185, 186, 187, 188, 189, 190, 192, 193, 194, 195, 196, 197, 198, 199, 200, 201, 202, 203, 204, 205, 206, 207, 208, 209, 210, 211, 212, 213, 214, 215, 216, 217, 218, 219, 220, 221, 222, 223, 224, 225, 226, 227, 228, 229, 231, 232, 233, 234, 235, 236, 237, 238, 239, 240, 241, 242, 243, 244, 245, 247, 248, 249, 250, 251, 252, 253, 254, 255, 257, 258, 259, 260, 261, 262, 263, 264, 265, 266, 267, 268, 269, 270, 271, 272, 273, 274, 275, 276, 277, 278, 279, 280, 281, 282, 284, 285, 286, 287, 288, 290, 291, 293, 295, 296, 297, 298, 299, 300, 303, 304, 305, 306, 307, 308, 309, 310, 311, 312, 313, 314, 315, 316, 317, 318, 319, 320, 321, 322, 323, 324, 325, 326, 327, 328, 329, 330, 331, 332, 334, 335, 337, 338, 339, 340, 341, 342, 343, 344, 345, 346, 347, 348, 349, 350, 351, 352, 353, 354, 355, 358, 359, 360, 361, 362, 363, 364, 365, 366, 367, 368, 370, 373, 375, 376, 377, 378, 379, 380, 381, 382, 383, 384, 386, 387, 388, 394, 395, 396, 397, 398, 400, 402, 403, 404, 405, 406, 407, 409, 410, 411, 412, 413, 414]}\n",
      "True 57\n",
      "False 347\n"
     ]
    }
   ],
   "metadata": {}
  },
  {
   "cell_type": "code",
   "execution_count": 9,
   "source": [
    "from cog_maps import CogMaps, THESAURUS_FILENAME, WEIGHTS_MAP_FILENAME, CM_LA_MINE_FILENAME\r\n",
    "\r\n",
    "thesaurus = CogMaps.load_thesaurus_map(THESAURUS_FILENAME)\r\n",
    "weights = CogMaps.load_weights(WEIGHTS_MAP_FILENAME)\r\n",
    "\r\n",
    "mine_map = CogMaps(CM_LA_MINE_FILENAME, predicate=lambda i : i in partition[True])\r\n",
    "print(len(mine_map))\r\n",
    "\r\n",
    "non_mine_map = CogMaps(CM_LA_MINE_FILENAME, predicate=lambda i : i in partition[False])\r\n",
    "print(len(non_mine_map))"
   ],
   "outputs": [
    {
     "output_type": "stream",
     "name": "stdout",
     "text": [
      "57\n",
      "347\n"
     ]
    }
   ],
   "metadata": {}
  },
  {
   "cell_type": "code",
   "execution_count": 10,
   "source": [
    "display(weights.keys())"
   ],
   "outputs": [
    {
     "output_type": "display_data",
     "data": {
      "text/plain": [
       "dict_keys(['arithmetique', 'inverse', 'pos_1', 'pos_3', 'pos_6', 'pos_3_arith', 'pos_6_arith', 'exponentielle'])"
      ]
     },
     "metadata": {}
    }
   ],
   "metadata": {}
  },
  {
   "cell_type": "code",
   "execution_count": 11,
   "source": [
    "all_mine_maps, _ = mine_map.apply_many(thesaurus, with_unknown=False)\r\n",
    "all_non_mine_maps, _ = non_mine_map.apply_many(thesaurus, with_unknown=False)\r\n",
    "print(all_mine_maps.keys())\r\n",
    "print(all_non_mine_maps.keys())\r\n",
    "\r\n",
    "CHOSEN_WEIGHTS = \"inverse\"\r\n",
    "for name, a_map in all_mine_maps.items():\r\n",
    "    a_map.weights = weights[CHOSEN_WEIGHTS]\r\n",
    "for name, a_map in all_non_mine_maps.items():\r\n",
    "    a_map.weights = weights[CHOSEN_WEIGHTS]\r\n"
   ],
   "outputs": [
    {
     "output_type": "stream",
     "name": "stdout",
     "text": [
      "dict_keys(['base', 'concept', 'mother', 'gd_mother'])\n",
      "dict_keys(['base', 'concept', 'mother', 'gd_mother'])\n"
     ]
    }
   ],
   "metadata": {}
  },
  {
   "cell_type": "code",
   "execution_count": 12,
   "source": [
    "from operator import itemgetter \r\n",
    "\r\n",
    "CHOSEN_LEVEL = \"mother\"\r\n",
    "mine_mother = all_mine_maps[CHOSEN_LEVEL]\r\n",
    "non_mine_mother = all_non_mine_maps[CHOSEN_LEVEL]\r\n",
    "\r\n",
    "mine_frequence = [(w, round(100*n/len(mine_mother))) for w,n in mine_mother.occurrences.items()]\r\n",
    "non_mine_frequence = [(w, round(100*n/len(non_mine_mother))) for w,n in non_mine_mother.occurrences.items()]\r\n",
    "\r\n",
    "\r\n",
    "display(\"Pour ceux qui travaillent à la mine (en % de citation pondéré par la position)\")\r\n",
    "display(sorted(mine_frequence, key=itemgetter(1), reverse = True)[:10])\r\n",
    "display(\"Pour ceux qui NE travaillent PAS à la mine (en % de citation pondéré par la position)\")\r\n",
    "display(sorted(non_mine_frequence, key=itemgetter(1), reverse = True)[:10])"
   ],
   "outputs": [
    {
     "output_type": "display_data",
     "data": {
      "text/plain": [
       "'Pour ceux qui travaillent à la mine (en % de citation pondéré par la position)'"
      ]
     },
     "metadata": {}
    },
    {
     "output_type": "display_data",
     "data": {
      "text/plain": [
       "[('nickel', 30),\n",
       " ('emploi', 21),\n",
       " ('économie du pays', 18),\n",
       " ('impact environnemental', 18),\n",
       " ('pollution', 17),\n",
       " ('revenu', 15),\n",
       " ('richesse', 9),\n",
       " ('développement', 9),\n",
       " ('engin', 9),\n",
       " ('terre', 8)]"
      ]
     },
     "metadata": {}
    },
    {
     "output_type": "display_data",
     "data": {
      "text/plain": [
       "'Pour ceux qui NE travaillent PAS à la mine (en % de citation pondéré par la position)'"
      ]
     },
     "metadata": {}
    },
    {
     "output_type": "display_data",
     "data": {
      "text/plain": [
       "[('nickel', 29),\n",
       " ('impact environnemental', 20),\n",
       " ('emploi', 17),\n",
       " ('minerai', 17),\n",
       " ('pollution', 14),\n",
       " ('économie du pays', 12),\n",
       " ('exploitation', 12),\n",
       " ('usine', 11),\n",
       " ('engin', 9),\n",
       " ('terre', 9)]"
      ]
     },
     "metadata": {}
    }
   ],
   "metadata": {}
  },
  {
   "cell_type": "code",
   "execution_count": 13,
   "source": [
    "from functools import partial\r\n",
    "from graphize import cog_map_to_graph\r\n",
    "from draw_graphviz import draw_graphviz\r\n",
    "import networkx as nx\r\n",
    "\r\n",
    "draw = partial(\r\n",
    "    draw_graphviz,\r\n",
    "    algorithm=\"sfdp\",\r\n",
    "    sep=0.01,\r\n",
    "    fontsize=12,  # \"proportional\",\r\n",
    "    node_color=\"weight\",\r\n",
    "    min_edge_penwidths=2,\r\n",
    "    max_edge_penwidths=12,\r\n",
    "    min_node_size=0.02,\r\n",
    "    max_node_size=1,\r\n",
    ")\r\n",
    "\r\n"
   ],
   "outputs": [],
   "metadata": {}
  },
  {
   "cell_type": "code",
   "execution_count": 14,
   "source": [
    "a_mine_graph = cog_map_to_graph(all_mine_maps[\"mother\"], threshold=2.0)\r\n",
    "draw(a_mine_graph, \"mine_test.svg\")\r\n",
    "\r\n",
    "a_non_mine_graph = cog_map_to_graph(all_non_mine_maps[\"mother\"], threshold=2.0)\r\n",
    "draw(a_non_mine_graph, \"non_mine_test.svg\")"
   ],
   "outputs": [
    {
     "output_type": "stream",
     "name": "stderr",
     "text": [
      "C:\\Users\\user\\AppData\\Roaming\\Python\\Python39\\site-packages\\pygraphviz\\agraph.py:1390: RuntimeWarning: Error: remove_overlap: Graphviz not built with triangulation library\n",
      "\n",
      "  warnings.warn(b\"\".join(errors).decode(self.encoding), RuntimeWarning)\n"
     ]
    }
   ],
   "metadata": {}
  }
 ],
 "metadata": {
  "orig_nbformat": 4,
  "language_info": {
   "name": "python",
   "version": "3.9.6",
   "mimetype": "text/x-python",
   "codemirror_mode": {
    "name": "ipython",
    "version": 3
   },
   "pygments_lexer": "ipython3",
   "nbconvert_exporter": "python",
   "file_extension": ".py"
  },
  "kernelspec": {
   "name": "python3",
   "display_name": "Python 3.9.6 64-bit"
  },
  "interpreter": {
   "hash": "63fd5069d213b44bf678585dea6b12cceca9941eaf7f819626cde1f2670de90d"
  }
 },
 "nbformat": 4,
 "nbformat_minor": 2
}