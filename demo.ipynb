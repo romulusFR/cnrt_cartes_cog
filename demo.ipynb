{
 "cells": [
  {
   "cell_type": "markdown",
   "source": [
    "# Démonstration de calcul sur les cartes cognitives"
   ],
   "metadata": {}
  },
  {
   "cell_type": "markdown",
   "source": [
    "## Mise en place\r\n",
    "\r\n",
    "On commence par le chargement des modules et des données"
   ],
   "metadata": {}
  },
  {
   "cell_type": "code",
   "execution_count": 19,
   "source": [
    "from itertools import islice, accumulate\r\n",
    "\r\n",
    "import numpy as np\r\n",
    "import pandas as pd\r\n",
    "import matplotlib.pyplot as plt\r\n",
    "import seaborn as sns\r\n",
    "import networkx as nx\r\n",
    "\r\n",
    "from cog_maps import CogMaps, CM_LA_MINE_FILENAME, THESAURUS_FILENAME, WEIGHTS_MAP_FILENAME, DEFAULT_WEIGHTS\r\n",
    "import vizu\r\n",
    "\r\n",
    "thesaurus = CogMaps.load_thesaurus_map(THESAURUS_FILENAME)\r\n",
    "weights = CogMaps.load_weights(WEIGHTS_MAP_FILENAME)\r\n",
    "les_cartes = CogMaps(CM_LA_MINE_FILENAME)"
   ],
   "outputs": [],
   "metadata": {}
  },
  {
   "cell_type": "markdown",
   "source": [
    "On va regarder le contenu des 5 premières cartes et garder la toute première sous le coude."
   ],
   "metadata": {}
  },
  {
   "cell_type": "code",
   "execution_count": 20,
   "source": [
    "for i, w in islice(les_cartes.cog_maps.items(), 5):\r\n",
    "    print(i, w)\r\n",
    "une_carte = les_cartes.cog_maps[1]\r\n"
   ],
   "outputs": [
    {
     "output_type": "stream",
     "name": "stdout",
     "text": [
      "1 ['pollution', 'inondation', 'boom', 'travail', 'retombée']\n",
      "2 ['richesse', 'malédiction', 'travail', 'destruction', 'histoire', 'frein', 'blocage', 'coutumier']\n",
      "4 ['travail', 'pollution', 'plainte']\n",
      "5 ['argent', 'pollution', 'nickel', 'production', 'nature', 'réparation', 'mer', 'inégalité']\n",
      "6 ['extraction', 'montagne', 'pollution', 'mineur', 'train', 'diversité', 'évolution']\n"
     ]
    }
   ],
   "metadata": {}
  },
  {
   "cell_type": "markdown",
   "source": [
    "On va maintenant afficher les pondérations disponibles (il y en a 8) : une application qui à chaque position (ou chaque écart) $n$ fait correspondre un poids dans l'intervalle $[0, \\ldots, 1]$"
   ],
   "metadata": {}
  },
  {
   "cell_type": "code",
   "execution_count": 21,
   "source": [
    "# la liste des pondérations définies\r\n",
    "print(weights.keys())\r\n",
    "# la pondération pos_3_arith \r\n",
    "weights[\"pos_3_arith\"]"
   ],
   "outputs": [
    {
     "output_type": "stream",
     "name": "stdout",
     "text": [
      "dict_keys(['arithmetique', 'inverse', 'pos_1', 'pos_3', 'pos_6', 'pos_3_arith', 'pos_6_arith', 'exponentielle'])\n"
     ]
    },
    {
     "output_type": "execute_result",
     "data": {
      "text/plain": [
       "{1: 1.0,\n",
       " 2: 0.5,\n",
       " 3: 0.33,\n",
       " 4: 0.0,\n",
       " 5: 0.0,\n",
       " 6: 0.0,\n",
       " 7: 0.0,\n",
       " 8: 0.0,\n",
       " 9: 0.0,\n",
       " 10: 0.0,\n",
       " 11: 0.0,\n",
       " 12: 0.0,\n",
       " 13: 0.0,\n",
       " 14: 0.0,\n",
       " 15: 0.0,\n",
       " 16: 0.0,\n",
       " 17: 0.0}"
      ]
     },
     "metadata": {},
     "execution_count": 21
    }
   ],
   "metadata": {}
  },
  {
   "cell_type": "markdown",
   "source": [
    "On va maintenant s'intéresser au thésaurus : une série de 3 applications qui à chaque mot fait correspondre un mot/concept qui le généralise :\r\n",
    "\r\n",
    "- mot énoncé $\\to$ concept\r\n",
    "- concept    $\\to$ mot mère\r\n",
    "- mot mère   $\\to$ mot grand mère"
   ],
   "metadata": {}
  },
  {
   "cell_type": "code",
   "execution_count": 22,
   "source": [
    "thesaurus.keys()"
   ],
   "outputs": [
    {
     "output_type": "execute_result",
     "data": {
      "text/plain": [
       "dict_keys(['concept', 'mother', 'gd_mother'])"
      ]
     },
     "metadata": {},
     "execution_count": 22
    }
   ],
   "metadata": {}
  },
  {
   "cell_type": "markdown",
   "source": [
    "Les niveaux du thésaurus permettent de généraliser les cartes : on peut remplacer chaque mot d'une carte par son concept, puis remplacer par le niveau suivant (mère) et encore celui d'après (grand-mère). C'est la composition ($\\circ$) des applications associées à chaque niveau de thésaurus."
   ],
   "metadata": {}
  },
  {
   "cell_type": "code",
   "execution_count": 23,
   "source": [
    "une_carte_concept = [thesaurus[\"concept\"][mot] for mot in une_carte]\r\n",
    "une_carte_mere = [thesaurus[\"mother\"][mot] for mot in une_carte_concept]\r\n",
    "le_carte_gd_mere = [thesaurus[\"gd_mother\"][mot] for mot in une_carte_mere]\r\n",
    "\r\n",
    "# exemple sur la première carte\r\n",
    "for quad in zip(une_carte, une_carte_concept, une_carte_mere, le_carte_gd_mere):\r\n",
    "    print(\" -> \".join(quad))"
   ],
   "outputs": [
    {
     "output_type": "stream",
     "name": "stdout",
     "text": [
      "pollution -> pollution -> pollution -> pollution\n",
      "inondation -> inondation -> changement climatique -> dégradation environnementale\n",
      "boom -> boom -> passé -> nouvelle-calédonie\n",
      "travail -> emploi -> emploi -> travail\n",
      "retombée -> retombée -> économie du pays -> économie\n"
     ]
    }
   ],
   "metadata": {}
  },
  {
   "cell_type": "markdown",
   "source": [
    "## Les calculs\r\n",
    "\r\n",
    "Les cartes, les cartes \"concepts\", les cartes \"mères\" et les cartes \"grands mères\" sont toutes des objets du même type, on peut faire les trois calculs principaux :\r\n",
    "\r\n",
    "- l'index qui à chaque mot donne ses occurences\r\n",
    "- le calcul du nombre d'occurrence de chaque mot à chaque position\r\n",
    "- le calcul du nombre d'occurrences, pondéré selon la position\r\n",
    "- le calcul des co-occurrences entre couples de mots\r\n",
    "  - ceci donne une matrice symétrique qui sert de base pour le rendu sous forme de graphe ou le clustering"
   ],
   "metadata": {}
  },
  {
   "cell_type": "code",
   "execution_count": 24,
   "source": [
    "# par exemple \"doniambo\" apparait 8 fois\r\n",
    "les_cartes.index[\"doniambo\"]"
   ],
   "outputs": [
    {
     "output_type": "execute_result",
     "data": {
      "text/plain": [
       "[(69, 2),\n",
       " (154, 4),\n",
       " (187, 4),\n",
       " (229, 3),\n",
       " (231, 5),\n",
       " (248, 4),\n",
       " (310, 8),\n",
       " (336, 14)]"
      ]
     },
     "metadata": {},
     "execution_count": 24
    }
   ],
   "metadata": {}
  },
  {
   "cell_type": "code",
   "execution_count": 25,
   "source": [
    "# sans pondération on voit un poids de 8.0\r\n",
    "les_cartes.occurrences[\"doniambo\"]"
   ],
   "outputs": [
    {
     "output_type": "execute_result",
     "data": {
      "text/plain": [
       "8.0"
      ]
     },
     "metadata": {},
     "execution_count": 25
    }
   ],
   "metadata": {}
  },
  {
   "cell_type": "code",
   "execution_count": 26,
   "source": [
    "# mais si on pondère, le score va être plus bas\r\n",
    "les_cartes.weights = weights[\"pos_3_arith\"]\r\n",
    "# il apparait une fois en positions 2 et une fois en 3, avec ces poids il va avoir 1/2 + 1/3\r\n",
    "les_cartes.occurrences[\"doniambo\"]"
   ],
   "outputs": [
    {
     "output_type": "execute_result",
     "data": {
      "text/plain": [
       "0.8300000000000001"
      ]
     },
     "metadata": {},
     "execution_count": 26
    }
   ],
   "metadata": {}
  },
  {
   "cell_type": "code",
   "execution_count": 27,
   "source": [
    "# on peut maintenant demander avec qui \"doniambo\" co-apparait comme mot voisin\r\n",
    "les_cartes.weights = weights[\"pos_1\"]\r\n",
    "sorted(((poids, mot) for mot, poids in les_cartes.matrix[\"doniambo\"].items() if poids > 0.0), reverse=True)\r\n",
    "\r\n",
    "# on peut vérifier que le nombre total de co-occurences est bien de 16"
   ],
   "outputs": [
    {
     "output_type": "execute_result",
     "data": {
      "text/plain": [
       "[(8.0, 'doniambo'),\n",
       " (3.0, 'vale'),\n",
       " (2.0, 'nickel'),\n",
       " (1.0, 'yaté'),\n",
       " (1.0, 'vkp'),\n",
       " (1.0, 'tiébaghi'),\n",
       " (1.0, 'terre rouge'),\n",
       " (1.0, 'sln'),\n",
       " (1.0, 'métallurgie'),\n",
       " (1.0, 'métal'),\n",
       " (1.0, 'minerai'),\n",
       " (1.0, 'goro'),\n",
       " (1.0, 'exportation'),\n",
       " (1.0, 'camion')]"
      ]
     },
     "metadata": {},
     "execution_count": 27
    }
   ],
   "metadata": {}
  },
  {
   "cell_type": "code",
   "execution_count": 28,
   "source": [
    "# ceci sera différent si on change de système de poids\r\n",
    "les_cartes.weights = weights[\"exponentielle\"]\r\n",
    "# on se limite aux 10 premiers\r\n",
    "sorted(((poids, mot) for mot, poids in les_cartes.matrix[\"doniambo\"].items() if poids > 0.05), reverse=True)[1:11]\r\n"
   ],
   "outputs": [
    {
     "output_type": "execute_result",
     "data": {
      "text/plain": [
       "[(3.0, 'vale'),\n",
       " (2.7, 'nickel'),\n",
       " (1.7400000000000002, 'sln'),\n",
       " (1.3900000000000001, 'métal'),\n",
       " (1.37, 'terre rouge'),\n",
       " (1.37, 'camion'),\n",
       " (1.1400000000000001, 'yaté'),\n",
       " (1.1400000000000001, 'goro'),\n",
       " (1.1400000000000001, 'exportation'),\n",
       " (1.0, 'vkp')]"
      ]
     },
     "metadata": {},
     "execution_count": 28
    }
   ],
   "metadata": {}
  },
  {
   "cell_type": "markdown",
   "source": [
    "## L'exploitation des graphes/matrices\r\n",
    "\r\n",
    "On a un matériel \"classique\", que l'on peut visualiser. On va garder ici la carte mère de la mine avec des poids exponentiels (inverse)"
   ],
   "metadata": {}
  },
  {
   "cell_type": "code",
   "execution_count": 29,
   "source": [
    "les_cartes_transformees, rapports = les_cartes.apply_many(thesaurus, with_unknown = False)\r\n",
    "les_cartes_meres = les_cartes_transformees[\"mother\"]\r\n",
    "les_cartes_meres.weights = DEFAULT_WEIGHTS"
   ],
   "outputs": [],
   "metadata": {}
  },
  {
   "cell_type": "code",
   "execution_count": 30,
   "source": [
    "# les 10 mots les plus cités\r\n",
    "list(sorted(les_cartes_meres.occurrences.items(), key = lambda x : x[1], reverse = True))[:10]"
   ],
   "outputs": [
    {
     "output_type": "execute_result",
     "data": {
      "text/plain": [
       "[('impact environnemental', 255.0),\n",
       " ('emploi', 202.0),\n",
       " ('nickel', 196.0),\n",
       " ('pollution', 177.0),\n",
       " ('minerai', 129.0),\n",
       " ('économie du pays', 126.0),\n",
       " ('usine', 112.0),\n",
       " ('exploitation', 108.0),\n",
       " ('engin', 102.0),\n",
       " ('terre', 90.0)]"
      ]
     },
     "metadata": {},
     "execution_count": 30
    }
   ],
   "metadata": {}
  },
  {
   "cell_type": "code",
   "execution_count": 31,
   "source": [
    "# on va passer maintenant à un syteme de poids exponentiel inverse\r\n",
    "les_cartes_meres.weights = weights[\"exponentielle\"]"
   ],
   "outputs": [],
   "metadata": {}
  },
  {
   "cell_type": "markdown",
   "source": [
    "Visualiser les co-occurrences. Soit \r\n",
    "\r\n",
    "- comme une matrice\r\n",
    "- un graphe\r\n",
    "- une _heatmap_\r\n",
    "\r\n",
    "**TODO**: utiliser les poids pour le delta entre position **et** la position !"
   ],
   "metadata": {}
  },
  {
   "cell_type": "code",
   "execution_count": 32,
   "source": [
    "df = pd.DataFrame(les_cartes_meres.matrix).fillna(0.0)\r\n",
    "df"
   ],
   "outputs": [
    {
     "output_type": "execute_result",
     "data": {
      "text/html": [
       "<div>\n",
       "<style scoped>\n",
       "    .dataframe tbody tr th:only-of-type {\n",
       "        vertical-align: middle;\n",
       "    }\n",
       "\n",
       "    .dataframe tbody tr th {\n",
       "        vertical-align: top;\n",
       "    }\n",
       "\n",
       "    .dataframe thead th {\n",
       "        text-align: right;\n",
       "    }\n",
       "</style>\n",
       "<table border=\"1\" class=\"dataframe\">\n",
       "  <thead>\n",
       "    <tr style=\"text-align: right;\">\n",
       "      <th></th>\n",
       "      <th>pollution</th>\n",
       "      <th>changement climatique</th>\n",
       "      <th>passé</th>\n",
       "      <th>emploi</th>\n",
       "      <th>économie du pays</th>\n",
       "      <th>richesse</th>\n",
       "      <th>vision négative de la ressource</th>\n",
       "      <th>impact environnemental</th>\n",
       "      <th>conflit</th>\n",
       "      <th>coutume</th>\n",
       "      <th>...</th>\n",
       "      <th>déclin</th>\n",
       "      <th>culture pop</th>\n",
       "      <th>développement durable</th>\n",
       "      <th>innovation</th>\n",
       "      <th>bien de consommation</th>\n",
       "      <th>puissance étrangère</th>\n",
       "      <th>structure</th>\n",
       "      <th>croissance minière</th>\n",
       "      <th>automatisation</th>\n",
       "      <th>crise</th>\n",
       "    </tr>\n",
       "  </thead>\n",
       "  <tbody>\n",
       "    <tr>\n",
       "      <th>pollution</th>\n",
       "      <td>188.98</td>\n",
       "      <td>5.11</td>\n",
       "      <td>0.95</td>\n",
       "      <td>46.10</td>\n",
       "      <td>26.70</td>\n",
       "      <td>10.01</td>\n",
       "      <td>1.51</td>\n",
       "      <td>69.91</td>\n",
       "      <td>12.93</td>\n",
       "      <td>2.39</td>\n",
       "      <td>...</td>\n",
       "      <td>0.15</td>\n",
       "      <td>0.37</td>\n",
       "      <td>0.51</td>\n",
       "      <td>0.37</td>\n",
       "      <td>0.14</td>\n",
       "      <td>0.05</td>\n",
       "      <td>1.14</td>\n",
       "      <td>2.51</td>\n",
       "      <td>1.0</td>\n",
       "      <td>0.14</td>\n",
       "    </tr>\n",
       "    <tr>\n",
       "      <th>changement climatique</th>\n",
       "      <td>5.11</td>\n",
       "      <td>19.38</td>\n",
       "      <td>1.00</td>\n",
       "      <td>6.05</td>\n",
       "      <td>3.40</td>\n",
       "      <td>1.16</td>\n",
       "      <td>0.00</td>\n",
       "      <td>7.71</td>\n",
       "      <td>0.74</td>\n",
       "      <td>0.00</td>\n",
       "      <td>...</td>\n",
       "      <td>0.00</td>\n",
       "      <td>0.00</td>\n",
       "      <td>0.00</td>\n",
       "      <td>0.00</td>\n",
       "      <td>0.00</td>\n",
       "      <td>0.14</td>\n",
       "      <td>0.51</td>\n",
       "      <td>0.37</td>\n",
       "      <td>0.0</td>\n",
       "      <td>0.00</td>\n",
       "    </tr>\n",
       "    <tr>\n",
       "      <th>passé</th>\n",
       "      <td>0.95</td>\n",
       "      <td>1.00</td>\n",
       "      <td>17.02</td>\n",
       "      <td>3.25</td>\n",
       "      <td>0.76</td>\n",
       "      <td>1.19</td>\n",
       "      <td>1.14</td>\n",
       "      <td>1.20</td>\n",
       "      <td>0.65</td>\n",
       "      <td>0.93</td>\n",
       "      <td>...</td>\n",
       "      <td>0.00</td>\n",
       "      <td>0.14</td>\n",
       "      <td>0.00</td>\n",
       "      <td>0.00</td>\n",
       "      <td>0.00</td>\n",
       "      <td>0.05</td>\n",
       "      <td>0.00</td>\n",
       "      <td>0.00</td>\n",
       "      <td>0.0</td>\n",
       "      <td>0.37</td>\n",
       "    </tr>\n",
       "    <tr>\n",
       "      <th>emploi</th>\n",
       "      <td>46.10</td>\n",
       "      <td>6.05</td>\n",
       "      <td>3.25</td>\n",
       "      <td>212.00</td>\n",
       "      <td>39.07</td>\n",
       "      <td>17.00</td>\n",
       "      <td>2.83</td>\n",
       "      <td>47.05</td>\n",
       "      <td>20.18</td>\n",
       "      <td>1.42</td>\n",
       "      <td>...</td>\n",
       "      <td>0.74</td>\n",
       "      <td>0.02</td>\n",
       "      <td>1.02</td>\n",
       "      <td>0.04</td>\n",
       "      <td>1.40</td>\n",
       "      <td>1.43</td>\n",
       "      <td>0.75</td>\n",
       "      <td>0.43</td>\n",
       "      <td>0.0</td>\n",
       "      <td>0.47</td>\n",
       "    </tr>\n",
       "    <tr>\n",
       "      <th>économie du pays</th>\n",
       "      <td>26.70</td>\n",
       "      <td>3.40</td>\n",
       "      <td>0.76</td>\n",
       "      <td>39.07</td>\n",
       "      <td>128.84</td>\n",
       "      <td>9.38</td>\n",
       "      <td>0.14</td>\n",
       "      <td>45.10</td>\n",
       "      <td>13.11</td>\n",
       "      <td>2.37</td>\n",
       "      <td>...</td>\n",
       "      <td>1.00</td>\n",
       "      <td>0.00</td>\n",
       "      <td>0.12</td>\n",
       "      <td>0.00</td>\n",
       "      <td>0.00</td>\n",
       "      <td>1.14</td>\n",
       "      <td>0.00</td>\n",
       "      <td>0.14</td>\n",
       "      <td>0.0</td>\n",
       "      <td>0.16</td>\n",
       "    </tr>\n",
       "    <tr>\n",
       "      <th>...</th>\n",
       "      <td>...</td>\n",
       "      <td>...</td>\n",
       "      <td>...</td>\n",
       "      <td>...</td>\n",
       "      <td>...</td>\n",
       "      <td>...</td>\n",
       "      <td>...</td>\n",
       "      <td>...</td>\n",
       "      <td>...</td>\n",
       "      <td>...</td>\n",
       "      <td>...</td>\n",
       "      <td>...</td>\n",
       "      <td>...</td>\n",
       "      <td>...</td>\n",
       "      <td>...</td>\n",
       "      <td>...</td>\n",
       "      <td>...</td>\n",
       "      <td>...</td>\n",
       "      <td>...</td>\n",
       "      <td>...</td>\n",
       "      <td>...</td>\n",
       "    </tr>\n",
       "    <tr>\n",
       "      <th>revalorisation de la ressource</th>\n",
       "      <td>0.02</td>\n",
       "      <td>0.00</td>\n",
       "      <td>1.28</td>\n",
       "      <td>0.38</td>\n",
       "      <td>1.14</td>\n",
       "      <td>0.40</td>\n",
       "      <td>0.00</td>\n",
       "      <td>1.56</td>\n",
       "      <td>0.14</td>\n",
       "      <td>1.07</td>\n",
       "      <td>...</td>\n",
       "      <td>0.00</td>\n",
       "      <td>0.00</td>\n",
       "      <td>0.00</td>\n",
       "      <td>0.00</td>\n",
       "      <td>0.02</td>\n",
       "      <td>0.00</td>\n",
       "      <td>0.00</td>\n",
       "      <td>0.00</td>\n",
       "      <td>0.0</td>\n",
       "      <td>0.39</td>\n",
       "    </tr>\n",
       "    <tr>\n",
       "      <th>maintien de l’exploitation</th>\n",
       "      <td>0.00</td>\n",
       "      <td>0.00</td>\n",
       "      <td>0.00</td>\n",
       "      <td>0.74</td>\n",
       "      <td>0.00</td>\n",
       "      <td>1.14</td>\n",
       "      <td>0.00</td>\n",
       "      <td>0.44</td>\n",
       "      <td>0.00</td>\n",
       "      <td>0.00</td>\n",
       "      <td>...</td>\n",
       "      <td>0.00</td>\n",
       "      <td>0.00</td>\n",
       "      <td>0.00</td>\n",
       "      <td>0.00</td>\n",
       "      <td>0.00</td>\n",
       "      <td>0.00</td>\n",
       "      <td>0.00</td>\n",
       "      <td>0.00</td>\n",
       "      <td>0.0</td>\n",
       "      <td>0.19</td>\n",
       "    </tr>\n",
       "    <tr>\n",
       "      <th>bien de consommation</th>\n",
       "      <td>0.14</td>\n",
       "      <td>0.00</td>\n",
       "      <td>0.00</td>\n",
       "      <td>1.40</td>\n",
       "      <td>0.00</td>\n",
       "      <td>0.28</td>\n",
       "      <td>0.00</td>\n",
       "      <td>0.44</td>\n",
       "      <td>0.00</td>\n",
       "      <td>1.00</td>\n",
       "      <td>...</td>\n",
       "      <td>0.00</td>\n",
       "      <td>0.00</td>\n",
       "      <td>0.00</td>\n",
       "      <td>0.00</td>\n",
       "      <td>5.10</td>\n",
       "      <td>0.00</td>\n",
       "      <td>0.00</td>\n",
       "      <td>0.00</td>\n",
       "      <td>0.0</td>\n",
       "      <td>0.00</td>\n",
       "    </tr>\n",
       "    <tr>\n",
       "      <th>fin</th>\n",
       "      <td>0.14</td>\n",
       "      <td>0.00</td>\n",
       "      <td>0.00</td>\n",
       "      <td>0.00</td>\n",
       "      <td>0.00</td>\n",
       "      <td>0.00</td>\n",
       "      <td>0.00</td>\n",
       "      <td>0.00</td>\n",
       "      <td>0.05</td>\n",
       "      <td>1.00</td>\n",
       "      <td>...</td>\n",
       "      <td>0.00</td>\n",
       "      <td>0.00</td>\n",
       "      <td>0.00</td>\n",
       "      <td>0.00</td>\n",
       "      <td>0.00</td>\n",
       "      <td>0.00</td>\n",
       "      <td>0.00</td>\n",
       "      <td>0.00</td>\n",
       "      <td>0.0</td>\n",
       "      <td>0.00</td>\n",
       "    </tr>\n",
       "    <tr>\n",
       "      <th>sentiment négatif</th>\n",
       "      <td>0.00</td>\n",
       "      <td>0.00</td>\n",
       "      <td>0.00</td>\n",
       "      <td>1.37</td>\n",
       "      <td>0.00</td>\n",
       "      <td>0.00</td>\n",
       "      <td>0.00</td>\n",
       "      <td>2.06</td>\n",
       "      <td>0.00</td>\n",
       "      <td>1.00</td>\n",
       "      <td>...</td>\n",
       "      <td>0.00</td>\n",
       "      <td>0.00</td>\n",
       "      <td>0.00</td>\n",
       "      <td>0.00</td>\n",
       "      <td>0.00</td>\n",
       "      <td>0.00</td>\n",
       "      <td>0.00</td>\n",
       "      <td>0.00</td>\n",
       "      <td>0.0</td>\n",
       "      <td>0.00</td>\n",
       "    </tr>\n",
       "  </tbody>\n",
       "</table>\n",
       "<p>90 rows × 90 columns</p>\n",
       "</div>"
      ],
      "text/plain": [
       "                                pollution  changement climatique  passé  \\\n",
       "pollution                          188.98                   5.11   0.95   \n",
       "changement climatique                5.11                  19.38   1.00   \n",
       "passé                                0.95                   1.00  17.02   \n",
       "emploi                              46.10                   6.05   3.25   \n",
       "économie du pays                    26.70                   3.40   0.76   \n",
       "...                                   ...                    ...    ...   \n",
       "revalorisation de la ressource       0.02                   0.00   1.28   \n",
       "maintien de l’exploitation           0.00                   0.00   0.00   \n",
       "bien de consommation                 0.14                   0.00   0.00   \n",
       "fin                                  0.14                   0.00   0.00   \n",
       "sentiment négatif                    0.00                   0.00   0.00   \n",
       "\n",
       "                                emploi  économie du pays  richesse  \\\n",
       "pollution                        46.10             26.70     10.01   \n",
       "changement climatique             6.05              3.40      1.16   \n",
       "passé                             3.25              0.76      1.19   \n",
       "emploi                          212.00             39.07     17.00   \n",
       "économie du pays                 39.07            128.84      9.38   \n",
       "...                                ...               ...       ...   \n",
       "revalorisation de la ressource    0.38              1.14      0.40   \n",
       "maintien de l’exploitation        0.74              0.00      1.14   \n",
       "bien de consommation              1.40              0.00      0.28   \n",
       "fin                               0.00              0.00      0.00   \n",
       "sentiment négatif                 1.37              0.00      0.00   \n",
       "\n",
       "                                vision négative de la ressource  \\\n",
       "pollution                                                  1.51   \n",
       "changement climatique                                      0.00   \n",
       "passé                                                      1.14   \n",
       "emploi                                                     2.83   \n",
       "économie du pays                                           0.14   \n",
       "...                                                         ...   \n",
       "revalorisation de la ressource                             0.00   \n",
       "maintien de l’exploitation                                 0.00   \n",
       "bien de consommation                                       0.00   \n",
       "fin                                                        0.00   \n",
       "sentiment négatif                                          0.00   \n",
       "\n",
       "                                impact environnemental  conflit  coutume  ...  \\\n",
       "pollution                                        69.91    12.93     2.39  ...   \n",
       "changement climatique                             7.71     0.74     0.00  ...   \n",
       "passé                                             1.20     0.65     0.93  ...   \n",
       "emploi                                           47.05    20.18     1.42  ...   \n",
       "économie du pays                                 45.10    13.11     2.37  ...   \n",
       "...                                                ...      ...      ...  ...   \n",
       "revalorisation de la ressource                    1.56     0.14     1.07  ...   \n",
       "maintien de l’exploitation                        0.44     0.00     0.00  ...   \n",
       "bien de consommation                              0.44     0.00     1.00  ...   \n",
       "fin                                               0.00     0.05     1.00  ...   \n",
       "sentiment négatif                                 2.06     0.00     1.00  ...   \n",
       "\n",
       "                                déclin  culture pop  développement durable  \\\n",
       "pollution                         0.15         0.37                   0.51   \n",
       "changement climatique             0.00         0.00                   0.00   \n",
       "passé                             0.00         0.14                   0.00   \n",
       "emploi                            0.74         0.02                   1.02   \n",
       "économie du pays                  1.00         0.00                   0.12   \n",
       "...                                ...          ...                    ...   \n",
       "revalorisation de la ressource    0.00         0.00                   0.00   \n",
       "maintien de l’exploitation        0.00         0.00                   0.00   \n",
       "bien de consommation              0.00         0.00                   0.00   \n",
       "fin                               0.00         0.00                   0.00   \n",
       "sentiment négatif                 0.00         0.00                   0.00   \n",
       "\n",
       "                                innovation  bien de consommation  \\\n",
       "pollution                             0.37                  0.14   \n",
       "changement climatique                 0.00                  0.00   \n",
       "passé                                 0.00                  0.00   \n",
       "emploi                                0.04                  1.40   \n",
       "économie du pays                      0.00                  0.00   \n",
       "...                                    ...                   ...   \n",
       "revalorisation de la ressource        0.00                  0.02   \n",
       "maintien de l’exploitation            0.00                  0.00   \n",
       "bien de consommation                  0.00                  5.10   \n",
       "fin                                   0.00                  0.00   \n",
       "sentiment négatif                     0.00                  0.00   \n",
       "\n",
       "                                puissance étrangère  structure  \\\n",
       "pollution                                      0.05       1.14   \n",
       "changement climatique                          0.14       0.51   \n",
       "passé                                          0.05       0.00   \n",
       "emploi                                         1.43       0.75   \n",
       "économie du pays                               1.14       0.00   \n",
       "...                                             ...        ...   \n",
       "revalorisation de la ressource                 0.00       0.00   \n",
       "maintien de l’exploitation                     0.00       0.00   \n",
       "bien de consommation                           0.00       0.00   \n",
       "fin                                            0.00       0.00   \n",
       "sentiment négatif                              0.00       0.00   \n",
       "\n",
       "                                croissance minière  automatisation  crise  \n",
       "pollution                                     2.51             1.0   0.14  \n",
       "changement climatique                         0.37             0.0   0.00  \n",
       "passé                                         0.00             0.0   0.37  \n",
       "emploi                                        0.43             0.0   0.47  \n",
       "économie du pays                              0.14             0.0   0.16  \n",
       "...                                            ...             ...    ...  \n",
       "revalorisation de la ressource                0.00             0.0   0.39  \n",
       "maintien de l’exploitation                    0.00             0.0   0.19  \n",
       "bien de consommation                          0.00             0.0   0.00  \n",
       "fin                                           0.00             0.0   0.00  \n",
       "sentiment négatif                             0.00             0.0   0.00  \n",
       "\n",
       "[90 rows x 90 columns]"
      ]
     },
     "metadata": {},
     "execution_count": 32
    }
   ],
   "metadata": {}
  },
  {
   "cell_type": "code",
   "execution_count": 33,
   "source": [
    "df.describe()"
   ],
   "outputs": [
    {
     "output_type": "execute_result",
     "data": {
      "text/html": [
       "<div>\n",
       "<style scoped>\n",
       "    .dataframe tbody tr th:only-of-type {\n",
       "        vertical-align: middle;\n",
       "    }\n",
       "\n",
       "    .dataframe tbody tr th {\n",
       "        vertical-align: top;\n",
       "    }\n",
       "\n",
       "    .dataframe thead th {\n",
       "        text-align: right;\n",
       "    }\n",
       "</style>\n",
       "<table border=\"1\" class=\"dataframe\">\n",
       "  <thead>\n",
       "    <tr style=\"text-align: right;\">\n",
       "      <th></th>\n",
       "      <th>pollution</th>\n",
       "      <th>changement climatique</th>\n",
       "      <th>passé</th>\n",
       "      <th>emploi</th>\n",
       "      <th>économie du pays</th>\n",
       "      <th>richesse</th>\n",
       "      <th>vision négative de la ressource</th>\n",
       "      <th>impact environnemental</th>\n",
       "      <th>conflit</th>\n",
       "      <th>coutume</th>\n",
       "      <th>...</th>\n",
       "      <th>déclin</th>\n",
       "      <th>culture pop</th>\n",
       "      <th>développement durable</th>\n",
       "      <th>innovation</th>\n",
       "      <th>bien de consommation</th>\n",
       "      <th>puissance étrangère</th>\n",
       "      <th>structure</th>\n",
       "      <th>croissance minière</th>\n",
       "      <th>automatisation</th>\n",
       "      <th>crise</th>\n",
       "    </tr>\n",
       "  </thead>\n",
       "  <tbody>\n",
       "    <tr>\n",
       "      <th>count</th>\n",
       "      <td>90.00</td>\n",
       "      <td>9.00e+01</td>\n",
       "      <td>90.00</td>\n",
       "      <td>90.00</td>\n",
       "      <td>90.00</td>\n",
       "      <td>90.00</td>\n",
       "      <td>90.00</td>\n",
       "      <td>90.00</td>\n",
       "      <td>90.00</td>\n",
       "      <td>90.00</td>\n",
       "      <td>...</td>\n",
       "      <td>9.00e+01</td>\n",
       "      <td>90.00</td>\n",
       "      <td>90.00</td>\n",
       "      <td>90.00</td>\n",
       "      <td>90.00</td>\n",
       "      <td>90.00</td>\n",
       "      <td>90.00</td>\n",
       "      <td>90.00</td>\n",
       "      <td>90.00</td>\n",
       "      <td>90.00</td>\n",
       "    </tr>\n",
       "    <tr>\n",
       "      <th>mean</th>\n",
       "      <td>6.98</td>\n",
       "      <td>7.20e-01</td>\n",
       "      <td>0.66</td>\n",
       "      <td>7.72</td>\n",
       "      <td>4.83</td>\n",
       "      <td>2.84</td>\n",
       "      <td>0.32</td>\n",
       "      <td>10.02</td>\n",
       "      <td>3.35</td>\n",
       "      <td>0.62</td>\n",
       "      <td>...</td>\n",
       "      <td>1.63e-01</td>\n",
       "      <td>0.14</td>\n",
       "      <td>0.13</td>\n",
       "      <td>0.14</td>\n",
       "      <td>0.22</td>\n",
       "      <td>0.24</td>\n",
       "      <td>0.31</td>\n",
       "      <td>0.21</td>\n",
       "      <td>0.04</td>\n",
       "      <td>0.24</td>\n",
       "    </tr>\n",
       "    <tr>\n",
       "      <th>std</th>\n",
       "      <td>21.64</td>\n",
       "      <td>2.35e+00</td>\n",
       "      <td>1.89</td>\n",
       "      <td>23.52</td>\n",
       "      <td>14.97</td>\n",
       "      <td>8.17</td>\n",
       "      <td>1.00</td>\n",
       "      <td>34.73</td>\n",
       "      <td>10.13</td>\n",
       "      <td>1.79</td>\n",
       "      <td>...</td>\n",
       "      <td>5.26e-01</td>\n",
       "      <td>0.45</td>\n",
       "      <td>0.42</td>\n",
       "      <td>0.44</td>\n",
       "      <td>0.68</td>\n",
       "      <td>0.73</td>\n",
       "      <td>1.16</td>\n",
       "      <td>0.66</td>\n",
       "      <td>0.19</td>\n",
       "      <td>0.74</td>\n",
       "    </tr>\n",
       "    <tr>\n",
       "      <th>min</th>\n",
       "      <td>0.00</td>\n",
       "      <td>0.00e+00</td>\n",
       "      <td>0.00</td>\n",
       "      <td>0.00</td>\n",
       "      <td>0.00</td>\n",
       "      <td>0.00</td>\n",
       "      <td>0.00</td>\n",
       "      <td>0.00</td>\n",
       "      <td>0.00</td>\n",
       "      <td>0.00</td>\n",
       "      <td>...</td>\n",
       "      <td>0.00e+00</td>\n",
       "      <td>0.00</td>\n",
       "      <td>0.00</td>\n",
       "      <td>0.00</td>\n",
       "      <td>0.00</td>\n",
       "      <td>0.00</td>\n",
       "      <td>0.00</td>\n",
       "      <td>0.00</td>\n",
       "      <td>0.00</td>\n",
       "      <td>0.00</td>\n",
       "    </tr>\n",
       "    <tr>\n",
       "      <th>25%</th>\n",
       "      <td>0.96</td>\n",
       "      <td>0.00e+00</td>\n",
       "      <td>0.00</td>\n",
       "      <td>1.12</td>\n",
       "      <td>0.16</td>\n",
       "      <td>0.05</td>\n",
       "      <td>0.00</td>\n",
       "      <td>1.42</td>\n",
       "      <td>0.15</td>\n",
       "      <td>0.00</td>\n",
       "      <td>...</td>\n",
       "      <td>0.00e+00</td>\n",
       "      <td>0.00</td>\n",
       "      <td>0.00</td>\n",
       "      <td>0.00</td>\n",
       "      <td>0.00</td>\n",
       "      <td>0.00</td>\n",
       "      <td>0.00</td>\n",
       "      <td>0.00</td>\n",
       "      <td>0.00</td>\n",
       "      <td>0.00</td>\n",
       "    </tr>\n",
       "    <tr>\n",
       "      <th>50%</th>\n",
       "      <td>1.87</td>\n",
       "      <td>5.00e-03</td>\n",
       "      <td>0.01</td>\n",
       "      <td>2.37</td>\n",
       "      <td>1.39</td>\n",
       "      <td>1.00</td>\n",
       "      <td>0.00</td>\n",
       "      <td>3.15</td>\n",
       "      <td>1.08</td>\n",
       "      <td>0.06</td>\n",
       "      <td>...</td>\n",
       "      <td>0.00e+00</td>\n",
       "      <td>0.00</td>\n",
       "      <td>0.00</td>\n",
       "      <td>0.00</td>\n",
       "      <td>0.00</td>\n",
       "      <td>0.00</td>\n",
       "      <td>0.00</td>\n",
       "      <td>0.00</td>\n",
       "      <td>0.00</td>\n",
       "      <td>0.00</td>\n",
       "    </tr>\n",
       "    <tr>\n",
       "      <th>75%</th>\n",
       "      <td>4.78</td>\n",
       "      <td>4.57e-01</td>\n",
       "      <td>0.99</td>\n",
       "      <td>5.42</td>\n",
       "      <td>3.53</td>\n",
       "      <td>2.21</td>\n",
       "      <td>0.06</td>\n",
       "      <td>6.99</td>\n",
       "      <td>3.09</td>\n",
       "      <td>1.00</td>\n",
       "      <td>...</td>\n",
       "      <td>7.50e-03</td>\n",
       "      <td>0.02</td>\n",
       "      <td>0.00</td>\n",
       "      <td>0.00</td>\n",
       "      <td>0.02</td>\n",
       "      <td>0.05</td>\n",
       "      <td>0.05</td>\n",
       "      <td>0.11</td>\n",
       "      <td>0.00</td>\n",
       "      <td>0.14</td>\n",
       "    </tr>\n",
       "    <tr>\n",
       "      <th>max</th>\n",
       "      <td>188.98</td>\n",
       "      <td>1.94e+01</td>\n",
       "      <td>17.02</td>\n",
       "      <td>212.00</td>\n",
       "      <td>128.84</td>\n",
       "      <td>73.00</td>\n",
       "      <td>8.10</td>\n",
       "      <td>319.72</td>\n",
       "      <td>92.76</td>\n",
       "      <td>16.10</td>\n",
       "      <td>...</td>\n",
       "      <td>4.00e+00</td>\n",
       "      <td>3.00</td>\n",
       "      <td>3.00</td>\n",
       "      <td>3.00</td>\n",
       "      <td>5.10</td>\n",
       "      <td>6.00</td>\n",
       "      <td>10.14</td>\n",
       "      <td>5.00</td>\n",
       "      <td>1.00</td>\n",
       "      <td>6.00</td>\n",
       "    </tr>\n",
       "  </tbody>\n",
       "</table>\n",
       "<p>8 rows × 90 columns</p>\n",
       "</div>"
      ],
      "text/plain": [
       "       pollution  changement climatique  passé  emploi  économie du pays  \\\n",
       "count      90.00               9.00e+01  90.00   90.00             90.00   \n",
       "mean        6.98               7.20e-01   0.66    7.72              4.83   \n",
       "std        21.64               2.35e+00   1.89   23.52             14.97   \n",
       "min         0.00               0.00e+00   0.00    0.00              0.00   \n",
       "25%         0.96               0.00e+00   0.00    1.12              0.16   \n",
       "50%         1.87               5.00e-03   0.01    2.37              1.39   \n",
       "75%         4.78               4.57e-01   0.99    5.42              3.53   \n",
       "max       188.98               1.94e+01  17.02  212.00            128.84   \n",
       "\n",
       "       richesse  vision négative de la ressource  impact environnemental  \\\n",
       "count     90.00                            90.00                   90.00   \n",
       "mean       2.84                             0.32                   10.02   \n",
       "std        8.17                             1.00                   34.73   \n",
       "min        0.00                             0.00                    0.00   \n",
       "25%        0.05                             0.00                    1.42   \n",
       "50%        1.00                             0.00                    3.15   \n",
       "75%        2.21                             0.06                    6.99   \n",
       "max       73.00                             8.10                  319.72   \n",
       "\n",
       "       conflit  coutume  ...    déclin  culture pop  développement durable  \\\n",
       "count    90.00    90.00  ...  9.00e+01        90.00                  90.00   \n",
       "mean      3.35     0.62  ...  1.63e-01         0.14                   0.13   \n",
       "std      10.13     1.79  ...  5.26e-01         0.45                   0.42   \n",
       "min       0.00     0.00  ...  0.00e+00         0.00                   0.00   \n",
       "25%       0.15     0.00  ...  0.00e+00         0.00                   0.00   \n",
       "50%       1.08     0.06  ...  0.00e+00         0.00                   0.00   \n",
       "75%       3.09     1.00  ...  7.50e-03         0.02                   0.00   \n",
       "max      92.76    16.10  ...  4.00e+00         3.00                   3.00   \n",
       "\n",
       "       innovation  bien de consommation  puissance étrangère  structure  \\\n",
       "count       90.00                 90.00                90.00      90.00   \n",
       "mean         0.14                  0.22                 0.24       0.31   \n",
       "std          0.44                  0.68                 0.73       1.16   \n",
       "min          0.00                  0.00                 0.00       0.00   \n",
       "25%          0.00                  0.00                 0.00       0.00   \n",
       "50%          0.00                  0.00                 0.00       0.00   \n",
       "75%          0.00                  0.02                 0.05       0.05   \n",
       "max          3.00                  5.10                 6.00      10.14   \n",
       "\n",
       "       croissance minière  automatisation  crise  \n",
       "count               90.00           90.00  90.00  \n",
       "mean                 0.21            0.04   0.24  \n",
       "std                  0.66            0.19   0.74  \n",
       "min                  0.00            0.00   0.00  \n",
       "25%                  0.00            0.00   0.00  \n",
       "50%                  0.00            0.00   0.00  \n",
       "75%                  0.11            0.00   0.14  \n",
       "max                  5.00            1.00   6.00  \n",
       "\n",
       "[8 rows x 90 columns]"
      ]
     },
     "metadata": {},
     "execution_count": 33
    }
   ],
   "metadata": {}
  },
  {
   "cell_type": "code",
   "execution_count": 34,
   "source": [
    "df[\"impact environnemental\"].sort_values(ascending=False)"
   ],
   "outputs": [
    {
     "output_type": "execute_result",
     "data": {
      "text/plain": [
       "impact environnemental    319.72\n",
       "pollution                  69.91\n",
       "emploi                     47.05\n",
       "économie du pays           45.10\n",
       "nickel                     30.11\n",
       "                           ...  \n",
       "formation                   0.01\n",
       "innovation                  0.00\n",
       "culture pop                 0.00\n",
       "développement culturel      0.00\n",
       "fin                         0.00\n",
       "Name: impact environnemental, Length: 90, dtype: float64"
      ]
     },
     "metadata": {},
     "execution_count": 34
    }
   ],
   "metadata": {}
  },
  {
   "cell_type": "markdown",
   "source": [
    "La visulation de la matrice sous forme de graphe, en ne prenant en compte que les co-occcurrences $\\geq 9.0$"
   ],
   "metadata": {}
  },
  {
   "cell_type": "markdown",
   "source": [
    "![](graphs/cartes_cog_la_mine_mother_exponentielle_9.0.svg)\r\n"
   ],
   "metadata": {}
  },
  {
   "cell_type": "markdown",
   "source": [
    "On peut aussi mettre sous forme de _heatmap_"
   ],
   "metadata": {}
  },
  {
   "cell_type": "code",
   "execution_count": 35,
   "source": [
    "vizu.heatmap(df)"
   ],
   "outputs": [
    {
     "output_type": "display_data",
     "data": {
      "text/plain": [
       "<Figure size 432x288 with 0 Axes>"
      ]
     },
     "metadata": {}
    },
    {
     "output_type": "display_data",
     "data": {
      "image/png": "[encoded data removed]",
      "text/plain": [
       "<Figure size 1296x1152 with 2 Axes>"
      ]
     },
     "metadata": {
      "needs_background": "light"
     }
    }
   ],
   "metadata": {}
  },
  {
   "cell_type": "markdown",
   "source": [
    "Enfin, pour mettre un peu de structure, on peut essayer de regrouper les termes qui ont des co-occurrences fréquentes et réordonner la _heatmap_ selon ces _clusters_ pour voire apparaitre des groupes.\r\n",
    "\r\n",
    "On va supprimer tous les mots qui n'ont pas de co-occurences pour ce système de poids"
   ],
   "metadata": {}
  },
  {
   "cell_type": "code",
   "execution_count": 63,
   "source": [
    "not_nulls = df.to_numpy().diagonal() > 0.0\r\n",
    "kept = [df.index[i] for i, b in enumerate(not_nulls) if b]"
   ],
   "outputs": [],
   "metadata": {}
  },
  {
   "cell_type": "markdown",
   "source": [
    "On lance le clusterint (ici un KMeans++) et on trie par rapport ua résultat"
   ],
   "metadata": {}
  },
  {
   "cell_type": "code",
   "execution_count": 66,
   "source": [
    "df_1 = df.reindex(index=kept, columns=kept)\r\n",
    "# le résultat du clustering\r\n",
    "idx = vizu.clusterize(df_1, n_clusters=10, normalize=True, threshold= 0.0)\r\n",
    "# on va réidenxer selont l'ordre donné par les clusters\r\n",
    "sorted_idx = [word for _, words in sorted(idx.items()) for word in words]\r\n",
    "df_2 = df_1.reindex(index=sorted_idx, columns=sorted_idx)"
   ],
   "outputs": [],
   "metadata": {}
  },
  {
   "cell_type": "markdown",
   "source": [
    "Le contenu des _clusters_, _id est_ les groupements de mots"
   ],
   "metadata": {}
  },
  {
   "cell_type": "code",
   "execution_count": 67,
   "source": [
    "for ix, clust in sorted(idx.items()):\r\n",
    "    print(ix, clust)"
   ],
   "outputs": [
    {
     "output_type": "stream",
     "name": "stdout",
     "text": [
      "0 ['production', 'biodiversité', 'relation france', 'social']\n",
      "1 ['pollution', 'changement climatique', 'emploi', 'économie du pays', 'amélioration environnementale', 'développement', 'impact environnemental']\n",
      "2 ['secteur nickel', 'santé', 'condition de travail', 'famille', 'formation', 'travail difficile']\n",
      "3 ['nickel', 'main d’oeuvre', 'usine', 'opérateur minier', 'production énergétique', 'métallurgie']\n",
      "4 ['passé', 'site minier', 'coutume', 'balance positive-négative', 'exportation', 'avenir']\n",
      "5 ['exploitation', 'relation internationale', 'richesse', 'vision positive de la ressource']\n",
      "6 ['milieu', 'montagne', 'engin', 'terre', 'nouvelle-calédonie', 'nuisance', 'fer']\n",
      "7 ['inégalité', 'description minière', 'danger']\n",
      "8 ['conflit', 'indépendance', 'investissement', 'épuisement de la ressource', 'politique']\n",
      "9 ['foncier', 'structure']\n"
     ]
    }
   ],
   "metadata": {}
  },
  {
   "cell_type": "markdown",
   "source": [
    "On va mettre une petite ligne entre les clusters et afficher la _heatmap_"
   ],
   "metadata": {}
  },
  {
   "cell_type": "code",
   "execution_count": null,
   "source": [
    "limits = list(accumulate([len(cat) for _, cat in sorted(idx.items())]))\r\n",
    "vizu.heatmap(df_2, limits)\r\n"
   ],
   "outputs": [],
   "metadata": {}
  }
 ],
 "metadata": {
  "orig_nbformat": 4,
  "language_info": {
   "name": "python",
   "version": "3.9.6",
   "mimetype": "text/x-python",
   "codemirror_mode": {
    "name": "ipython",
    "version": 3
   },
   "pygments_lexer": "ipython3",
   "nbconvert_exporter": "python",
   "file_extension": ".py"
  },
  "kernelspec": {
   "name": "python3",
   "display_name": "Python 3.9.6 64-bit"
  },
  "interpreter": {
   "hash": "63fd5069d213b44bf678585dea6b12cceca9941eaf7f819626cde1f2670de90d"
  }
 },
 "nbformat": 4,
 "nbformat_minor": 2
}