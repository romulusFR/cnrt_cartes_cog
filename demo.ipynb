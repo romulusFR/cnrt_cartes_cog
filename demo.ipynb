{
 "cells": [
  {
   "cell_type": "markdown",
   "source": [
    "# Démonstration de calcul sur les cartes cognitives"
   ],
   "metadata": {}
  },
  {
   "cell_type": "markdown",
   "source": [
    "## Mise en place\r\n",
    "\r\n",
    "On commence par le chargement des modules et des données"
   ],
   "metadata": {}
  },
  {
   "cell_type": "code",
   "execution_count": 51,
   "source": [
    "from itertools import islice\r\n",
    "from cog_maps import CogMaps, CM_LA_MINE_FILENAME, THESAURUS_FILENAME, WEIGHTS_MAP_FILENAME\r\n",
    "\r\n",
    "thesaurus = CogMaps.load_thesaurus_map(THESAURUS_FILENAME)\r\n",
    "weights = CogMaps.load_weights(WEIGHTS_MAP_FILENAME)\r\n",
    "les_cartes = CogMaps(CM_LA_MINE_FILENAME)"
   ],
   "outputs": [],
   "metadata": {}
  },
  {
   "cell_type": "markdown",
   "source": [
    "On va regarder le contenu des 5 premières cartes et garder la toute première sous le coude."
   ],
   "metadata": {}
  },
  {
   "cell_type": "code",
   "execution_count": 52,
   "source": [
    "for i, w in islice(les_cartes.cog_maps.items(), 5):\r\n",
    "    print(i, w)\r\n",
    "une_carte = les_cartes.cog_maps[1]\r\n"
   ],
   "outputs": [
    {
     "output_type": "stream",
     "name": "stdout",
     "text": [
      "1 ['pollution', 'inondation', 'boom', 'travail', 'retombée']\n",
      "2 ['richesse', 'malédiction', 'travail', 'destruction', 'histoire', 'frein', 'blocage', 'coutumier']\n",
      "4 ['travail', 'pollution', 'plainte']\n",
      "5 ['argent', 'pollution', 'nickel', 'production', 'nature', 'réparation', 'mer', 'inégalité']\n",
      "6 ['extraction', 'montagne', 'pollution', 'mineur', 'train', 'diversité', 'évolution']\n"
     ]
    }
   ],
   "metadata": {}
  },
  {
   "cell_type": "markdown",
   "source": [
    "On va maintenant afficher les pondérations disponibles (il y en a 8) : une application qui à chaque position (ou chaque écart) $n$ fait correspondre un poids dans l'intervalle $[0, \\ldots, 1]$"
   ],
   "metadata": {}
  },
  {
   "cell_type": "code",
   "execution_count": 53,
   "source": [
    "# la liste des pondérations définies\r\n",
    "print(weights.keys())\r\n",
    "# la pondération pos_3_arith \r\n",
    "weights[\"pos_3_arith\"]"
   ],
   "outputs": [
    {
     "output_type": "stream",
     "name": "stdout",
     "text": [
      "dict_keys(['arithmetique', 'inverse', 'pos_1', 'pos_3', 'pos_6', 'pos_3_arith', 'pos_6_arith', 'exponentielle'])\n"
     ]
    },
    {
     "output_type": "execute_result",
     "data": {
      "text/plain": [
       "{1: 1.0,\n",
       " 2: 0.5,\n",
       " 3: 0.33,\n",
       " 4: 0.0,\n",
       " 5: 0.0,\n",
       " 6: 0.0,\n",
       " 7: 0.0,\n",
       " 8: 0.0,\n",
       " 9: 0.0,\n",
       " 10: 0.0,\n",
       " 11: 0.0,\n",
       " 12: 0.0,\n",
       " 13: 0.0,\n",
       " 14: 0.0,\n",
       " 15: 0.0,\n",
       " 16: 0.0,\n",
       " 17: 0.0}"
      ]
     },
     "metadata": {},
     "execution_count": 53
    }
   ],
   "metadata": {}
  },
  {
   "cell_type": "markdown",
   "source": [
    "On va maintenant s'intéresser au thésaurus : une série de 3 applications qui à chaque mot fait correspondre un mot/concept qui le généralise :\r\n",
    "\r\n",
    "- mot énoncé $\\to$ concept\r\n",
    "- concept    $\\to$ mot mère\r\n",
    "- mot mère   $\\to$ mot grand mère"
   ],
   "metadata": {}
  },
  {
   "cell_type": "code",
   "execution_count": 54,
   "source": [
    "thesaurus.keys()"
   ],
   "outputs": [
    {
     "output_type": "execute_result",
     "data": {
      "text/plain": [
       "dict_keys(['concept', 'mother', 'gd_mother'])"
      ]
     },
     "metadata": {},
     "execution_count": 54
    }
   ],
   "metadata": {}
  },
  {
   "cell_type": "markdown",
   "source": [
    "Les niveaux du thésaurus permettent de généraliser les cartes : on peut remplacer chaque mot d'une carte par son concept, puis remplacer par le niveau suivant (mère) et encore celui d'après (grand-mère). C'est la composition ($\\circ$) des applications associées à chaque niveau de thésaurus."
   ],
   "metadata": {}
  },
  {
   "cell_type": "code",
   "execution_count": 55,
   "source": [
    "une_carte_concept = [thesaurus[\"concept\"][mot] for mot in une_carte]\r\n",
    "une_carte_mere = [thesaurus[\"mother\"][mot] for mot in une_carte_concept]\r\n",
    "une_carte_gd_mere = [thesaurus[\"gd_mother\"][mot] for mot in une_carte_mere]\r\n",
    "\r\n",
    "# exemple sur la première carte\r\n",
    "for quad in zip(une_carte, une_carte_concept, une_carte_mere, une_carte_gd_mere):\r\n",
    "    print(\" -> \".join(quad))"
   ],
   "outputs": [
    {
     "output_type": "stream",
     "name": "stdout",
     "text": [
      "pollution -> pollution -> pollution -> pollution\n",
      "inondation -> inondation -> changement climatique -> dégradation environnementale\n",
      "boom -> boom -> passé -> nouvelle-calédonie\n",
      "travail -> emploi -> emploi -> travail\n",
      "retombée -> retombée -> économie du pays -> économie\n"
     ]
    }
   ],
   "metadata": {}
  },
  {
   "cell_type": "markdown",
   "source": [
    "## Les calculs\r\n",
    "\r\n",
    "Les cartes, les cartes \"concepts\", les cartes \"mères\" et les cartes \"grands mères\" sont toutes des objets du même type, on peut faire les trois calculs principaux :\r\n",
    "\r\n",
    "- l'index qui à chaque mot donne ses occurences\r\n",
    "- le calcul du nombre d'occurrence de chaque mot à chaque position\r\n",
    "- le calcul du nombre d'occurrences, pondéré selon la position\r\n",
    "- le calcul des co-occurrences entre couples de mots\r\n",
    "  - ceci donne une matrice symétrique qui sert de base pour le rendu sous forme de graphe ou le clustering"
   ],
   "metadata": {}
  },
  {
   "cell_type": "code",
   "execution_count": 59,
   "source": [
    "# par exemple \"doniambo\" apparait 8 fois\r\n",
    "les_cartes.index[\"doniambo\"]"
   ],
   "outputs": [
    {
     "output_type": "execute_result",
     "data": {
      "text/plain": [
       "[(69, 2),\n",
       " (154, 4),\n",
       " (187, 4),\n",
       " (229, 3),\n",
       " (231, 5),\n",
       " (248, 4),\n",
       " (310, 8),\n",
       " (336, 14)]"
      ]
     },
     "metadata": {},
     "execution_count": 59
    }
   ],
   "metadata": {}
  },
  {
   "cell_type": "code",
   "execution_count": 63,
   "source": [
    "# sans pondération on voit un poids de 8.0\r\n",
    "les_cartes.occurrences[\"doniambo\"]"
   ],
   "outputs": [
    {
     "output_type": "execute_result",
     "data": {
      "text/plain": [
       "8.0"
      ]
     },
     "metadata": {},
     "execution_count": 63
    }
   ],
   "metadata": {}
  },
  {
   "cell_type": "code",
   "execution_count": 67,
   "source": [
    "# mais si on pondère, le score va être plus bas\r\n",
    "les_cartes.weights = weights[\"pos_3_arith\"]\r\n",
    "# il apparait une fois en positions 2 et une fois en 3, avec ces poids il va avoir 1/2 + 1/3\r\n",
    "les_cartes.occurrences[\"doniambo\"]"
   ],
   "outputs": [
    {
     "output_type": "execute_result",
     "data": {
      "text/plain": [
       "0.8300000000000001"
      ]
     },
     "metadata": {},
     "execution_count": 67
    }
   ],
   "metadata": {}
  },
  {
   "cell_type": "code",
   "execution_count": 77,
   "source": [
    "# on peut maintenant demander avec qui \"doniambo\" co-apparait comme mot voisin\r\n",
    "les_cartes.weights = weights[\"pos_1\"]\r\n",
    "sorted(((poids, mot) for mot, poids in les_cartes.matrix[\"doniambo\"].items() if poids > 0.0), reverse=True)\r\n",
    "\r\n",
    "# on peut vérifier que le nombre total de co-occurences est bien de 16"
   ],
   "outputs": [
    {
     "output_type": "execute_result",
     "data": {
      "text/plain": [
       "[(8.0, 'doniambo'),\n",
       " (3.0, 'vale'),\n",
       " (2.0, 'nickel'),\n",
       " (1.0, 'yaté'),\n",
       " (1.0, 'vkp'),\n",
       " (1.0, 'tiébaghi'),\n",
       " (1.0, 'terre rouge'),\n",
       " (1.0, 'sln'),\n",
       " (1.0, 'métallurgie'),\n",
       " (1.0, 'métal'),\n",
       " (1.0, 'minerai'),\n",
       " (1.0, 'goro'),\n",
       " (1.0, 'exportation'),\n",
       " (1.0, 'camion')]"
      ]
     },
     "metadata": {},
     "execution_count": 77
    }
   ],
   "metadata": {}
  },
  {
   "cell_type": "code",
   "execution_count": 80,
   "source": [
    "# ceci sera différent si on change de système de poids\r\n",
    "les_cartes.weights = weights[\"exponentielle\"]\r\n",
    "sorted(((poids, mot) for mot, poids in les_cartes.matrix[\"doniambo\"].items() if poids > 0.05), reverse=True)\r\n"
   ],
   "outputs": [
    {
     "output_type": "execute_result",
     "data": {
      "text/plain": [
       "[(8.0, 'doniambo'),\n",
       " (3.0, 'vale'),\n",
       " (2.7, 'nickel'),\n",
       " (1.7400000000000002, 'sln'),\n",
       " (1.3900000000000001, 'métal'),\n",
       " (1.37, 'terre rouge'),\n",
       " (1.37, 'camion'),\n",
       " (1.1400000000000001, 'yaté'),\n",
       " (1.1400000000000001, 'goro'),\n",
       " (1.1400000000000001, 'exportation'),\n",
       " (1.0, 'vkp'),\n",
       " (1.0, 'tiébaghi'),\n",
       " (1.0, 'métallurgie'),\n",
       " (1.0, 'minerai'),\n",
       " (0.39, 'emploi'),\n",
       " (0.38, 'richesse'),\n",
       " (0.37, 'vavouto'),\n",
       " (0.37, 'smsp'),\n",
       " (0.37, 'poro'),\n",
       " (0.37, 'nouvelle-calédonie'),\n",
       " (0.37, 'garniérite'),\n",
       " (0.37, 'eramet'),\n",
       " (0.14, 'sécheresse'),\n",
       " (0.14, 'pollution'),\n",
       " (0.14, 'koniambo'),\n",
       " (0.14, 'investissement'),\n",
       " (0.14, 'inox'),\n",
       " (0.14, 'côte ouest'),\n",
       " (0.14, 'cheminée'),\n",
       " (0.07, 'travail')]"
      ]
     },
     "metadata": {},
     "execution_count": 80
    }
   ],
   "metadata": {}
  },
  {
   "cell_type": "markdown",
   "source": [
    "## L'exploitation des graphes/matrices\r\n",
    "\r\n",
    "On a un matériel \"classique\", que l'on peut visualiser."
   ],
   "metadata": {}
  },
  {
   "cell_type": "code",
   "execution_count": null,
   "source": [],
   "outputs": [],
   "metadata": {}
  }
 ],
 "metadata": {
  "orig_nbformat": 4,
  "language_info": {
   "name": "python",
   "version": "3.9.6",
   "mimetype": "text/x-python",
   "codemirror_mode": {
    "name": "ipython",
    "version": 3
   },
   "pygments_lexer": "ipython3",
   "nbconvert_exporter": "python",
   "file_extension": ".py"
  },
  "kernelspec": {
   "name": "python3",
   "display_name": "Python 3.9.6 64-bit"
  },
  "interpreter": {
   "hash": "63fd5069d213b44bf678585dea6b12cceca9941eaf7f819626cde1f2670de90d"
  }
 },
 "nbformat": 4,
 "nbformat_minor": 2
}