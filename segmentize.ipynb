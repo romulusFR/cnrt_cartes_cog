{
 "cells": [
  {
   "cell_type": "markdown",
   "source": [
    "# Test de segmentation des cartes selon le profil du répondant\r\n",
    "\r\n",
    "**Important** nécessite le fichier des données personnelles qui n'est _pas_ versionné dans le dépôt."
   ],
   "metadata": {}
  },
  {
   "cell_type": "code",
   "execution_count": 1,
   "source": [
    "from IPython.display import display\r\n",
    "from anonymizer import get_data, PERSONAL_DATA_FILE\r\n",
    "\r\n",
    "# les data\r\n",
    "df = get_data(PERSONAL_DATA_FILE, drop=True) "
   ],
   "outputs": [],
   "metadata": {}
  },
  {
   "cell_type": "code",
   "execution_count": 2,
   "source": [
    "df.columns"
   ],
   "outputs": [
    {
     "output_type": "execute_result",
     "data": {
      "text/plain": [
       "Index(['date', 'commune_enquete', 'travail_mine', 'famille_mine',\n",
       "       'habitant_nc', 'commune_residence', 'commune_miniere',\n",
       "       'habite_ailleurs_nc', 'genre', 'age_interval',\n",
       "       'duree_residence_interval', 'duree_presence_nc_interval',\n",
       "       'duree_travail_mine_interval'],\n",
       "      dtype='object')"
      ]
     },
     "metadata": {},
     "execution_count": 2
    }
   ],
   "metadata": {}
  },
  {
   "cell_type": "code",
   "execution_count": 3,
   "source": [
    "# df.groupby([\"travail_mine\", \"famille_mine\"]).count()\r\n",
    "df.value_counts(subset=[\"travail_mine\", \"famille_mine\"], sort = False)"
   ],
   "outputs": [
    {
     "output_type": "execute_result",
     "data": {
      "text/plain": [
       "travail_mine  famille_mine\n",
       "False         False           115\n",
       "              True            232\n",
       "True          False            11\n",
       "              True             46\n",
       "dtype: int64"
      ]
     },
     "metadata": {},
     "execution_count": 3
    }
   ],
   "metadata": {}
  },
  {
   "cell_type": "code",
   "execution_count": 4,
   "source": [
    "# df.groupby([\"age_interval\"]).count()\r\n",
    "df.value_counts(subset=[\"age_interval\"], sort = False)"
   ],
   "outputs": [
    {
     "output_type": "execute_result",
     "data": {
      "text/plain": [
       "age_interval\n",
       "[10.0, 20.0)    158\n",
       "[20.0, 30.0)    152\n",
       "[30.0, 40.0)     20\n",
       "[40.0, 50.0)     23\n",
       "[50.0, 60.0)     34\n",
       "[60.0, 70.0)     10\n",
       "[70.0, 80.0)      4\n",
       "[80.0, 90.0)      2\n",
       "dtype: int64"
      ]
     },
     "metadata": {},
     "execution_count": 4
    }
   ],
   "metadata": {}
  },
  {
   "cell_type": "code",
   "execution_count": 5,
   "source": [
    "partition = { True : list(df[df.travail_mine].index), False: list(df[~ df.travail_mine].index) }\r\n",
    "print(partition)\r\n",
    "for key, vals in partition.items():\r\n",
    "    print(key, len(vals))"
   ],
   "outputs": [
    {
     "output_type": "stream",
     "name": "stdout",
     "text": [
      "{True: [5, 8, 17, 19, 20, 23, 26, 27, 29, 30, 31, 32, 33, 34, 37, 38, 39, 42, 46, 47, 53, 55, 57, 58, 61, 74, 103, 106, 150, 184, 191, 230, 246, 256, 283, 289, 292, 294, 301, 302, 333, 336, 356, 357, 369, 371, 372, 374, 385, 389, 390, 391, 392, 393, 399, 401, 408], False: [1, 2, 4, 6, 7, 9, 10, 11, 12, 13, 14, 15, 16, 21, 22, 24, 25, 28, 35, 36, 41, 43, 44, 48, 49, 50, 51, 52, 54, 56, 59, 60, 62, 63, 65, 67, 68, 69, 70, 71, 72, 73, 76, 77, 81, 82, 83, 84, 85, 86, 87, 88, 89, 90, 91, 92, 93, 94, 95, 96, 97, 98, 99, 100, 101, 102, 104, 105, 107, 108, 109, 110, 111, 112, 113, 114, 115, 116, 117, 118, 119, 120, 121, 122, 123, 124, 125, 126, 127, 128, 129, 130, 131, 132, 133, 134, 135, 136, 137, 138, 139, 140, 141, 142, 143, 144, 145, 146, 147, 148, 149, 151, 152, 153, 154, 155, 156, 157, 158, 159, 160, 161, 162, 163, 164, 165, 166, 167, 168, 169, 170, 171, 172, 173, 174, 175, 176, 177, 178, 179, 180, 181, 182, 183, 185, 186, 187, 188, 189, 190, 192, 193, 194, 195, 196, 197, 198, 199, 200, 201, 202, 203, 204, 205, 206, 207, 208, 209, 210, 211, 212, 213, 214, 215, 216, 217, 218, 219, 220, 221, 222, 223, 224, 225, 226, 227, 228, 229, 231, 232, 233, 234, 235, 236, 237, 238, 239, 240, 241, 242, 243, 244, 245, 247, 248, 249, 250, 251, 252, 253, 254, 255, 257, 258, 259, 260, 261, 262, 263, 264, 265, 266, 267, 268, 269, 270, 271, 272, 273, 274, 275, 276, 277, 278, 279, 280, 281, 282, 284, 285, 286, 287, 288, 290, 291, 293, 295, 296, 297, 298, 299, 300, 303, 304, 305, 306, 307, 308, 309, 310, 311, 312, 313, 314, 315, 316, 317, 318, 319, 320, 321, 322, 323, 324, 325, 326, 327, 328, 329, 330, 331, 332, 334, 335, 337, 338, 339, 340, 341, 342, 343, 344, 345, 346, 347, 348, 349, 350, 351, 352, 353, 354, 355, 358, 359, 360, 361, 362, 363, 364, 365, 366, 367, 368, 370, 373, 375, 376, 377, 378, 379, 380, 381, 382, 383, 384, 386, 387, 388, 394, 395, 396, 397, 398, 400, 402, 403, 404, 405, 406, 407, 409, 410, 411, 412, 413, 414]}\n",
      "True 57\n",
      "False 347\n"
     ]
    }
   ],
   "metadata": {}
  },
  {
   "cell_type": "code",
   "execution_count": 6,
   "source": [
    "from cog_maps import CogMaps, THESAURUS_FILENAME, WEIGHTS_MAP_FILENAME, CM_LA_MINE_FILENAME\r\n",
    "\r\n",
    "thesaurus = CogMaps.load_thesaurus_map(THESAURUS_FILENAME)\r\n",
    "weights = CogMaps.load_weights(WEIGHTS_MAP_FILENAME)\r\n",
    "\r\n",
    "mine_map = CogMaps(CM_LA_MINE_FILENAME, predicate=lambda i : i in partition[True])\r\n",
    "print(len(mine_map))\r\n",
    "\r\n",
    "non_mine_map = CogMaps(CM_LA_MINE_FILENAME, predicate=lambda i : i in partition[False])\r\n",
    "print(len(non_mine_map))"
   ],
   "outputs": [
    {
     "output_type": "stream",
     "name": "stdout",
     "text": [
      "57\n",
      "347\n"
     ]
    }
   ],
   "metadata": {}
  },
  {
   "cell_type": "code",
   "execution_count": 7,
   "source": [
    "display(weights.keys())"
   ],
   "outputs": [
    {
     "output_type": "display_data",
     "data": {
      "text/plain": [
       "dict_keys(['arithmetique', 'inverse', 'pos_1', 'pos_3', 'pos_6', 'pos_3_arith', 'pos_6_arith', 'exponentielle'])"
      ]
     },
     "metadata": {}
    }
   ],
   "metadata": {}
  },
  {
   "cell_type": "code",
   "execution_count": 8,
   "source": [
    "all_mine_maps, _ = mine_map.apply_many(thesaurus, with_unknown=False)\r\n",
    "all_non_mine_maps, _ = non_mine_map.apply_many(thesaurus, with_unknown=False)\r\n",
    "print(all_mine_maps.keys())\r\n",
    "print(all_non_mine_maps.keys())\r\n",
    "\r\n",
    "CHOSEN_WEIGHTS = \"inverse\"\r\n",
    "for name, a_map in all_mine_maps.items():\r\n",
    "    a_map.weights = weights[CHOSEN_WEIGHTS]\r\n",
    "for name, a_map in all_non_mine_maps.items():\r\n",
    "    a_map.weights = weights[CHOSEN_WEIGHTS]\r\n"
   ],
   "outputs": [
    {
     "output_type": "stream",
     "name": "stdout",
     "text": [
      "dict_keys(['base', 'concept', 'mother', 'gd_mother'])\n",
      "dict_keys(['base', 'concept', 'mother', 'gd_mother'])\n"
     ]
    }
   ],
   "metadata": {}
  },
  {
   "cell_type": "code",
   "execution_count": 13,
   "source": [
    "from operator import itemgetter \r\n",
    "\r\n",
    "CHOSEN_LEVEL = \"mother\"\r\n",
    "mine_mother = all_mine_maps[CHOSEN_LEVEL]\r\n",
    "non_mine_mother = all_non_mine_maps[CHOSEN_LEVEL]\r\n",
    "\r\n",
    "mine_frequence = [(w, round(100*n/len(mine_mother))) for w,n in mine_mother.occurrences.items()]\r\n",
    "non_mine_frequence = [(w, round(100*n/len(non_mine_mother))) for w,n in non_mine_mother.occurrences.items()]\r\n",
    "\r\n",
    "\r\n",
    "display(\"Pour ceux qui travaillent à la mine (en % de citation pondéré par la position)\")\r\n",
    "display(sorted(mine_frequence, key=itemgetter(1), reverse = True)[:10])\r\n",
    "display(\"Pour ceux qui NE travaillent PAS à la mine (en % de citation pondéré par la position)\")\r\n",
    "display(sorted(non_mine_frequence, key=itemgetter(1), reverse = True)[:10])"
   ],
   "outputs": [
    {
     "output_type": "display_data",
     "data": {
      "text/plain": [
       "'Pour ceux qui travaillent à la mine (en % de citation pondéré par la position)'"
      ]
     },
     "metadata": {}
    },
    {
     "output_type": "display_data",
     "data": {
      "text/plain": [
       "[('impact environnemental', 68),\n",
       " ('pollution', 53),\n",
       " ('emploi', 51),\n",
       " ('nickel', 44),\n",
       " ('économie du pays', 37),\n",
       " ('revenu', 26),\n",
       " ('engin', 25),\n",
       " ('développement', 23),\n",
       " ('terre', 23),\n",
       " ('richesse', 19)]"
      ]
     },
     "metadata": {}
    },
    {
     "output_type": "display_data",
     "data": {
      "text/plain": [
       "'Pour ceux qui NE travaillent PAS à la mine (en % de citation pondéré par la position)'"
      ]
     },
     "metadata": {}
    },
    {
     "output_type": "display_data",
     "data": {
      "text/plain": [
       "[('impact environnemental', 62),\n",
       " ('emploi', 50),\n",
       " ('nickel', 49),\n",
       " ('pollution', 42),\n",
       " ('minerai', 35),\n",
       " ('usine', 31),\n",
       " ('économie du pays', 30),\n",
       " ('exploitation', 29),\n",
       " ('engin', 25),\n",
       " ('opérateur minier', 23)]"
      ]
     },
     "metadata": {}
    }
   ],
   "metadata": {}
  },
  {
   "cell_type": "code",
   "execution_count": 10,
   "source": [
    "from functools import partial\r\n",
    "from graphize import cog_map_to_graph\r\n",
    "from draw_graphviz import draw_graphviz\r\n",
    "import networkx as nx\r\n",
    "\r\n",
    "draw = partial(\r\n",
    "    draw_graphviz,\r\n",
    "    algorithm=\"sfdp\",\r\n",
    "    sep=0.01,\r\n",
    "    fontsize=12,  # \"proportional\",\r\n",
    "    node_color=\"weight\",\r\n",
    "    min_edge_penwidths=2,\r\n",
    "    max_edge_penwidths=12,\r\n",
    "    min_node_size=0.02,\r\n",
    "    max_node_size=1,\r\n",
    ")\r\n",
    "\r\n"
   ],
   "outputs": [],
   "metadata": {}
  },
  {
   "cell_type": "code",
   "execution_count": 11,
   "source": [
    "a_mine_graph = cog_map_to_graph(all_mine_maps[\"mother\"], threshold=2.0)\r\n",
    "draw(a_mine_graph, \"mine_test.svg\")\r\n",
    "\r\n",
    "a_non_mine_graph = cog_map_to_graph(all_non_mine_maps[\"mother\"], threshold=2.0)\r\n",
    "draw(a_non_mine_graph, \"non_mine_test.svg\")"
   ],
   "outputs": [
    {
     "output_type": "stream",
     "name": "stderr",
     "text": [
      "C:\\Users\\user\\AppData\\Roaming\\Python\\Python39\\site-packages\\pygraphviz\\agraph.py:1390: RuntimeWarning: Error: remove_overlap: Graphviz not built with triangulation library\n",
      "\n",
      "  warnings.warn(b\"\".join(errors).decode(self.encoding), RuntimeWarning)\n"
     ]
    }
   ],
   "metadata": {}
  }
 ],
 "metadata": {
  "orig_nbformat": 4,
  "language_info": {
   "name": "python",
   "version": "3.9.6",
   "mimetype": "text/x-python",
   "codemirror_mode": {
    "name": "ipython",
    "version": 3
   },
   "pygments_lexer": "ipython3",
   "nbconvert_exporter": "python",
   "file_extension": ".py"
  },
  "kernelspec": {
   "name": "python3",
   "display_name": "Python 3.9.6 64-bit"
  },
  "interpreter": {
   "hash": "63fd5069d213b44bf678585dea6b12cceca9941eaf7f819626cde1f2670de90d"
  }
 },
 "nbformat": 4,
 "nbformat_minor": 2
}