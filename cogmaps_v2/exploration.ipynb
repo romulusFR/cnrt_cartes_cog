{
 "cells": [
  {
   "cell_type": "markdown",
   "metadata": {},
   "source": [
    "# Note sur les cartes cognitives\n",
    "\n",
    "V2, après nouvelles enquêtes VBO et reprise du thésaurus.\n"
   ]
  },
  {
   "cell_type": "markdown",
   "metadata": {},
   "source": [
    "## Notes sur les données\n",
    "\n",
    "### A l'usage du producteur\n",
    "\n",
    "Pour faciliter le traitement automatique, assurer la qualité des données\n",
    "\n",
    "- apostrophe avant date\n",
    "- espace/majuscules surperflues : respecter l'orthographe, supprimer les articles inutiles, forme fléchies\n",
    "  - penser à _un dictionnaire_\n",
    "- colonnes duppliquées (calcul si besoin)\n",
    "- colonnes de même nom\n",
    "- colonnes au nom ambigu\n",
    "- numéro au delà des utilisés\n",
    "- pas de mise en forme en utilisant des cellules vides\n",
    "\n",
    "### Notes techniques\n",
    "\n",
    "- rester tant que possible sur un `DataFrame`,\n",
    "  - ne pas mixer / casser la srtucture,\n",
    "  - ou alors, _once and for all_ e.g., pour la liste de réponses,\n",
    "- assurer la cohérence de la clef : OK (au 2022-05-31)\n",
    "- gérer les libellés des questions\n",
    "- la représentation des durées/ages (`ans`)\n",
    "\n",
    "## Exploration du dataset\n"
   ]
  },
  {
   "cell_type": "code",
   "execution_count": null,
   "metadata": {},
   "outputs": [],
   "source": [
    "import operator as op\n",
    "\n",
    "from datetime import date\n",
    "from pathlib import Path\n",
    "from collections import Counter\n",
    "from statistics import fmean\n",
    "\n",
    "\n",
    "import numpy as np\n",
    "import scipy.stats as stats\n",
    "import pandas as pd\n",
    "import matplotlib.pyplot as plt\n",
    "import seaborn as sns\n",
    "from IPython.display import display\n",
    "\n",
    "from catk import CA\n",
    "\n",
    "FILENAME = Path(\"../input/BDD_2022-06-02.xlsx\")\n",
    "MAX_COLS = 20\n",
    "PREFIX_MINE = \"Mine\"\n",
    "PREFIX_FUTUR = \"Futur\"\n",
    "LABEL_MINE = \"la mine et le nickel\"\n",
    "LABEL_FUTUR = \"la mine dans le futur\"\n",
    "TOP_K_WORDS = 20\n",
    "\n",
    "cols_mine = [f\"{PREFIX_MINE} {i}\" for i in range(1, MAX_COLS + 1)]\n",
    "cols_futur = [f\"{PREFIX_FUTUR} {i}\" for i in range(1, MAX_COLS + 1)]\n",
    "cols_censurees = [f\"Question {x}\" for x in [2, 5.1, 7, 10.1, 11, 14, 14.1]] + [\"Commentaire entretien/individu\"]\n",
    "\n",
    "\n",
    "def clean(s: str) -> str:\n",
    "    return s.strip().lower()\n"
   ]
  },
  {
   "cell_type": "code",
   "execution_count": null,
   "metadata": {},
   "outputs": [],
   "source": [
    "df_complete = pd.read_excel(FILENAME, sheet_name=\"BDD\", index_col=\"Numéro\")\n",
    "\n",
    "# ajout des groupes d'age quinquennaux/décénaux\n",
    "df_complete[\"GAD\"] = 10 * (df_complete[\"Question 12\"] // 10)\n",
    "df_complete[\"GAQ\"] = 5 * (df_complete[\"Question 12\"] // 5)\n",
    "\n",
    "print(\"Liste des colonnes disponibles\")\n",
    "display(df_complete.columns)\n",
    "\n",
    "cols_resp = [c for c in df_complete.columns if c not in cols_mine + cols_futur + cols_censurees]\n",
    "\n",
    "df_resp = df_complete[cols_resp]\n",
    "df_resp.name = \"Données personnelles\"\n",
    "df_mine = df_complete[cols_mine].astype(\"string\")\n",
    "df_mine.name = f\"Cartes cognitives '{LABEL_MINE}'\"\n",
    "df_futur = df_complete[cols_futur].astype(\"string\")\n",
    "df_futur.name = f\"Cartes cognitives '{LABEL_FUTUR}'\"\n",
    "\n",
    "print(f\"Nombre de répondants {len(df_complete)}\")\n",
    "print(f\"Colonnes '{LABEL_MINE}' présentes {set(cols_mine) <= set(df_complete.columns)}\")\n",
    "print(f\"Colonnes '{LABEL_FUTUR}' présentes {set(cols_futur) <= set(df_complete.columns)}\")\n"
   ]
  },
  {
   "cell_type": "markdown",
   "metadata": {},
   "source": [
    "Informations sur les répondants"
   ]
  },
  {
   "cell_type": "code",
   "execution_count": null,
   "metadata": {},
   "outputs": [],
   "source": [
    "# display(df_resp.info())\n",
    "display(df_resp)\n"
   ]
  },
  {
   "cell_type": "markdown",
   "metadata": {},
   "source": [
    "Cartes cognitives 'la mine'"
   ]
  },
  {
   "cell_type": "code",
   "execution_count": null,
   "metadata": {},
   "outputs": [],
   "source": [
    "display(df_mine)\n"
   ]
  },
  {
   "cell_type": "markdown",
   "metadata": {},
   "source": [
    "Cartes cognitives 'la mine futur'"
   ]
  },
  {
   "cell_type": "code",
   "execution_count": null,
   "metadata": {},
   "outputs": [],
   "source": [
    "display(df_futur)\n"
   ]
  },
  {
   "cell_type": "markdown",
   "metadata": {},
   "source": [
    "Quelques vérifications et indicateurs globaux\n"
   ]
  },
  {
   "cell_type": "markdown",
   "metadata": {},
   "source": [
    "Création des dictionnaires de réponses sur les deux enquêtes\n"
   ]
  },
  {
   "cell_type": "code",
   "execution_count": null,
   "metadata": {},
   "outputs": [],
   "source": [
    "def get_cogmaps(df, cols):\n",
    "    return {idx: [clean(val) for val in vals.dropna().tolist()] for idx, vals in df[cols].astype(\"string\").iterrows()}\n",
    "\n",
    "\n",
    "dict_mine = get_cogmaps(df_complete, cols_mine)\n",
    "dict_futur = get_cogmaps(df_complete, cols_futur)\n",
    "\n",
    "# display(dict_mine)\n",
    "\n",
    "for dic, lbl in ((dict_mine, LABEL_MINE), (dict_futur, LABEL_FUTUR)):\n",
    "    print(f\"Cartes '{lbl}'\")\n",
    "    print(f\"\\tplus longue cartes {max(len(val) for val in dic.values())}\")\n",
    "    print(f\"\\tlongueur moyenne des cartes {fmean(len(val) for val in dic.values()):.2f}\")\n",
    "    print(f\"\\tnombre total de mots énoncés {sum(len(val) for val in dic.values())}\")\n",
    "    print(f\"\\tnombre de mots énoncés différents {len(set(v for val in dic.values() for v in val))}\")\n",
    "    print()\n"
   ]
  },
  {
   "cell_type": "code",
   "execution_count": null,
   "metadata": {},
   "outputs": [],
   "source": [
    "for dic, lbl in ((dict_mine, LABEL_MINE), (dict_futur, LABEL_FUTUR)):\n",
    "    words = Counter(w for l in dic.values() for w in l)\n",
    "    print(f\"Cartes '{lbl}' : {len(words)} mots. Top {TOP_K_WORDS}, toutes positions confondues :\")\n",
    "    display(words.most_common(TOP_K_WORDS))\n"
   ]
  },
  {
   "cell_type": "markdown",
   "metadata": {},
   "source": [
    "Longueur des cartes et leur histogramme\n"
   ]
  },
  {
   "cell_type": "code",
   "execution_count": null,
   "metadata": {},
   "outputs": [],
   "source": [
    "def get_n_words(dic, n: int):\n",
    "    \"\"\"Mot de la position n\"\"\"\n",
    "    return [vals[n] for vals in dic.values() if n < len(vals)]\n",
    "\n",
    "\n",
    "print(\"Répartitions des longueurs des cartes\")\n",
    "sns.histplot([len(vals) for vals in dict_mine.values()], bins=20)\n",
    "plt.show()\n",
    "sns.histplot([len(vals) for vals in dict_futur.values()], bins=20)\n",
    "plt.show()\n"
   ]
  },
  {
   "cell_type": "markdown",
   "metadata": {},
   "source": [
    "## Quelques indicateurs sur les profils des répondants\n",
    "\n",
    "On commence par récupérer les libellés des questions\n"
   ]
  },
  {
   "cell_type": "code",
   "execution_count": null,
   "metadata": {},
   "outputs": [],
   "source": [
    "df_questions = pd.read_excel(\"../input/BDD_2022-05-31.xlsx\", sheet_name=\"Questions\", parse_dates=False).astype(\n",
    "    {\"Question\": \"string\", \"Libellé\": \"string\"}\n",
    ")\n",
    "display(df_questions)\n",
    "print(f\"Toutes les questions présentes {set(df_questions['Question']) <= set(df_resp.columns)}\")\n",
    "questions_labels = df_questions.set_index(\"Question\").to_dict()[\"Libellé\"]  # orient=\"series\"\n"
   ]
  },
  {
   "cell_type": "code",
   "execution_count": null,
   "metadata": {},
   "outputs": [],
   "source": [
    "# print(questions_labels[\"Question 1\"])\n",
    "# print(questions_labels[\"Question 4\"])\n",
    "def groupby(questions):\n",
    "    return df_complete.value_counts(subset=questions, sort=False).rename_axis(\n",
    "        [questions_labels.get(q, q) for q in questions]\n",
    "    )\n",
    "\n",
    "\n",
    "display(groupby([\"Question 1\", \"Question 4\"]))\n",
    "display(groupby([\"Question 8.1\"]))\n",
    "display(groupby([\"GAD\", \"Question 8.2\"]))\n"
   ]
  },
  {
   "cell_type": "code",
   "execution_count": null,
   "metadata": {},
   "outputs": [],
   "source": [
    "print(\"Histogramme des ages des répondants\")\n",
    "sns.histplot(df_resp[\"Question 12\"], bins=20)\n"
   ]
  },
  {
   "cell_type": "markdown",
   "metadata": {},
   "source": [
    "## Mots les plus communs pour la carte \"la mine\"\n",
    "\n",
    "On va segmenter les données en _populations_ (e.g., \"moins de 26 ans\", \"mineur\", etc.) selon les attributs et générer un tableau avec :\n",
    "\n",
    "- en ligne tous les mots énoncés dans les cartes \"la mine\"\n",
    "- en colonne, les populations, avec pour chacune :\n",
    "  - le nombre de fois où le mot a été énoncé par les membres de cette population\n",
    "  - le nombre de fois \"théorique\" où le mot serait annoncé si il y avait indépendance des énonciations entre les populations\n",
    "  - le % de fois où un membre de la population a énoncé le mot\n",
    "- pour chaque groupe, on calcule ensuite un test du $\\chi^2$ pour évaluer l'écart à l'indépendance\n"
   ]
  },
  {
   "cell_type": "code",
   "execution_count": null,
   "metadata": {},
   "outputs": [],
   "source": [
    "LABEL_TOTAL = \"Total\"\n",
    "CLEF_TOTAL = (\n",
    "    \"*\",\n",
    "    \"*\",\n",
    "    LABEL_TOTAL,\n",
    ")\n",
    "all_words_mine = Counter(w for l in dict_mine.values() for w in l)\n",
    "all_words_futur = Counter(w for l in dict_futur.values() for w in l)\n",
    "\n",
    "df_population = pd.DataFrame(index=list(all_words_mine.keys()))\n",
    "df_population[CLEF_TOTAL] = all_words_mine.values()\n",
    "THRESHOLD = 20\n",
    "df_population = df_population[df_population[CLEF_TOTAL] >= THRESHOLD]\n",
    "df_population.sort_values(CLEF_TOTAL, key=op.neg, inplace=True)\n",
    "\n",
    "\n",
    "def pretty_pvals(x):\n",
    "    if x < 1e-4:\n",
    "        return \"****\"\n",
    "    if x < 1e-3:\n",
    "        return \"***\"\n",
    "    if x < 1e-2:\n",
    "        return \"**\"\n",
    "    if x < 5e-2:\n",
    "        return \"*\"\n",
    "    return \"\"\n",
    "\n",
    "\n",
    "def add_population(filtres, name):\n",
    "    \"\"\"Ajout de colonnes sur une population segmentée\"\"\"\n",
    "    observed = []\n",
    "    expected = []\n",
    "    chi2 = stats.chi2(len(filtres) - 1)\n",
    "    for filtre, val in filtres:\n",
    "        cg = get_cogmaps(df_mine[filtre], cols_mine)\n",
    "        c = Counter(w for l in cg.values() for w in l)\n",
    "        print(f\"Ajout de la colonne '{name}, {val}', {len(cg)} répondants, {c.total()} énonciations\")\n",
    "\n",
    "        key = (name, val, \"Nb.\")\n",
    "        df_population[key] = pd.Series(c)\n",
    "        df_population[key].fillna(0, inplace=True)\n",
    "        df_population[key] = df_population[key].astype(int)\n",
    "        # df_population[f\"{name} (% des mots)\"] = round(100 * pd.Series(c) / c.total(),2)\n",
    "        # ici en % ** des répondants**\n",
    "        df_population[(name, val, \"Nb. th.\")] = round(df_population[CLEF_TOTAL] * len(cg) / len(df_mine), 2)\n",
    "        exp = df_population[CLEF_TOTAL].to_numpy() * len(cg) / len(df_mine)\n",
    "        # df_population[(name, val, \"(%)\")] = round(100 * pd.Series(c) / len(cg), 2)\n",
    "\n",
    "        observed.append(df_population[key].to_numpy().reshape(-1, 1))\n",
    "        # expected.append(df_population[(name, val, \"Nb. th.\")].to_numpy().reshape(-1, 1))\n",
    "        expected.append(exp.reshape(-1, 1))\n",
    "\n",
    "    obs, exp = np.concatenate(observed, axis=1), np.concatenate(expected, axis=1)\n",
    "    # df_population[(name, \"Chi²\", \"Value\")] = np.sum((obs-exp)**2/exp, axis=1)\n",
    "    chis = np.sum((obs - exp) ** 2 / exp, axis=1)\n",
    "    # df_population[(name, \"Chi²\", \"p-value\")] = chi2.sf(df_population[(name, \"Chi²\", \"Value\")])\n",
    "    p_vals = chi2.sf(chis)\n",
    "    # df_population[(name, \"Chi²\", \"Significatif\")] = [pretty_pvals(v) for v in  df_population[(name, \"Chi²\", \"p-value\")]]\n",
    "    df_population[(name, \"Chi²\", \"Significatif\")] = [pretty_pvals(v) for v in p_vals]\n",
    "\n",
    "\n",
    "def generate_all_filters(col):\n",
    "    values = df_resp[col].dropna().unique()\n",
    "    return [(df_resp[col] == value, value) for value in values]\n",
    "\n",
    "\n",
    "moins_de_26_ans = df_resp[\"Question 12\"] < 26\n",
    "add_population([(moins_de_26_ans, \"Oui\"), (~moins_de_26_ans, \"Non\")], \"Age < 26\")\n",
    "add_population(generate_all_filters(\"Question 13\"), \"Genre\")\n",
    "# add_population(generate_all_filters(\"GAD\"), \"Groupe d'age décénal\")\n",
    "add_population(generate_all_filters(\"Question 1\"), \"Travaille dans la mine\")\n",
    "add_population(generate_all_filters(\"Question 4\"), \"Famille dans la mine\")\n",
    "add_population(generate_all_filters(\"Question 5\"), \"Toujours vécu en NC\")\n",
    "# add_population(generate_all_filters(\"Question 8.1\"), \"Commune de résidence\")\n",
    "# pour ça, plutôt faire une AFC\n",
    "add_population(generate_all_filters(\"Question 8.2\"), \"Commune minière\")\n",
    "# df_population=df_population.copy()\n",
    "\n",
    "\n",
    "# nettoyage final\n",
    "df_population.fillna(0.0, inplace=True)\n",
    "df_population.columns = pd.MultiIndex.from_tuples(df_population.columns)\n",
    "df_population.columns.set_names([\"Variable\", \"Catégorie\", \"Statistique\"], inplace=True)\n",
    "\n",
    "# THRESHOLD = 10\n",
    "# display(df_population[df_population[CLEF_TOTAL] >= THRESHOLD])\n",
    "display(df_population)\n",
    "# display(df_population[df_population[(\"Age < 26\", \"Chi²\", \"Significatif\")].str.startswith(\"**\")])\n"
   ]
  },
  {
   "cell_type": "code",
   "execution_count": null,
   "metadata": {},
   "outputs": [],
   "source": [
    "today = date.today().strftime(\"%Y-%m-%d\")\n",
    "output = Path(\"../output_v2\")\n",
    "output.mkdir(parents=True, exist_ok=True)\n",
    "df_population.to_excel(output / f\"analyse_par_population-{today}.xlsx\")\n"
   ]
  },
  {
   "cell_type": "markdown",
   "metadata": {},
   "source": [
    "## Complétude du thésaurus\n"
   ]
  },
  {
   "cell_type": "code",
   "execution_count": null,
   "metadata": {},
   "outputs": [],
   "source": [
    "df_thesaurus = pd.read_excel(FILENAME, sheet_name=\"Thésaurus_2\")\n",
    "concepts = df_thesaurus.columns.to_list()\n",
    "\n",
    "\n",
    "thesaurus = {\n",
    "    clean(key): [clean(val) for val in vals if val is not np.nan]\n",
    "    for key, vals in df_thesaurus.to_dict(orient=\"list\").items()\n",
    "}\n",
    "\n",
    "print(f\"Nombre de concepts dans le thésaurus {len(thesaurus)}\")\n",
    "print(f\"Nombre de mots classés dans le thésaurus {sum(len(vals) for vals in thesaurus.values())}\")\n"
   ]
  },
  {
   "cell_type": "code",
   "execution_count": null,
   "metadata": {},
   "outputs": [],
   "source": [
    "all_words_thesaurus = [val for vals in thesaurus.values() for val in vals]\n",
    "print(f\"Nombre de mots du thésaurus = {[len(vals) for vals in thesaurus.values()]}\")\n",
    "print(f\"Nombre total de mots du thésaurus = {len(all_words_thesaurus)}\")\n",
    "print(f\"Nombre de mots du thésaurus sans doublons = {len(set(all_words_thesaurus))}\")\n",
    "print(f\"Doublons dans le thésaurus : {len(all_words_thesaurus) != len(set(all_words_thesaurus))}\")\n"
   ]
  },
  {
   "cell_type": "code",
   "execution_count": null,
   "metadata": {},
   "outputs": [],
   "source": [
    "occ_mutiples = {\n",
    "    mot: [concept for concept, vals in thesaurus.items() if mot in vals]\n",
    "    for mot, occ in Counter(all_words_thesaurus).items()\n",
    "    if occ > 1\n",
    "}\n",
    "\n",
    "print(f\"{len(occ_mutiples)} mots avec occurrences multiples dans le thésaurus, pour chaque, la liste des concepts où il apparait\")\n",
    "display(occ_mutiples)\n"
   ]
  },
  {
   "cell_type": "code",
   "execution_count": null,
   "metadata": {},
   "outputs": [],
   "source": [
    "mots_mine_sans_concept = set(all_words_mine) - set(all_words_thesaurus)\n",
    "print(f\"Il y a {len(mots_mine_sans_concept)} mots des cartes '{LABEL_MINE}' qui ne sont pas dans le thésaurus.\")\n",
    "print(\"On donne les mots et les identifiants des réponses où il apparaissent (<=404 ~ Benoit) \")\n",
    "mots_mine_sans_concept_pos = {\n",
    "    mot: [num for num, mots in dict_mine.items() if mot in mots] for mot in mots_mine_sans_concept\n",
    "}\n",
    "display(mots_mine_sans_concept_pos)\n"
   ]
  },
  {
   "cell_type": "code",
   "execution_count": null,
   "metadata": {},
   "outputs": [],
   "source": [
    "mots_futur_sans_concept = set(all_words_futur) - set(all_words_thesaurus)\n",
    "print(f\"Il y a {len(mots_futur_sans_concept)} mots des cartes '{LABEL_FUTUR}' qui ne sont pas dans le thésaurus :\")\n",
    "print(\"On donne les mots et les identifiants des réponses où il apparaissent (<=404 ~ Benoit) \")\n",
    "mots_futur_sans_concept_pos = {\n",
    "    mot: [num for num, mots in dict_futur.items() if mot in mots] for mot in mots_futur_sans_concept\n",
    "}\n",
    "display(mots_futur_sans_concept_pos)\n"
   ]
  },
  {
   "cell_type": "code",
   "execution_count": null,
   "metadata": {},
   "outputs": [],
   "source": [
    "mots_thesaurus_sans_enonciation = set(all_words_thesaurus) - set(all_words_mine) - set(all_words_futur)\n",
    "print(f\"Il y a {len(mots_thesaurus_sans_enonciation)} mots du thésaurus qui n'apparaissent dans aucune carte\")\n",
    "display(mots_thesaurus_sans_enonciation)\n"
   ]
  },
  {
   "cell_type": "markdown",
   "metadata": {},
   "source": [
    "## Analyse des correspondances\n"
   ]
  },
  {
   "cell_type": "code",
   "execution_count": null,
   "metadata": {},
   "outputs": [],
   "source": [
    "ROW_THRESHOLD = 20\n",
    "COL_THRESHOLD = 100\n",
    "\n",
    "\n",
    "def gen_ca_dataset(attribut):\n",
    "\n",
    "    cats = df_complete[attribut].dropna().unique()\n",
    "    cats_filters = {value: (df_resp[attribut] == value) for value in cats}\n",
    "\n",
    "    # gad_filters[80.0].index[gad_filters[80.0]].to_list() # to_numpy().nonzero()\n",
    "\n",
    "    df = pd.DataFrame(index=all_words_mine)\n",
    "    # dict_mine\n",
    "    # gad_filters.keys()\n",
    "    for group in sorted(cats_filters.keys()):\n",
    "        ids = cats_filters[group].index[cats_filters[group]].to_list()\n",
    "        cogs = Counter(mot for num, mots in dict_mine.items() if num in ids for mot in mots)\n",
    "        # print(f\"Groupe {group} :  {len(ids)} individus, {len(cogs)} mots énoncés\")\n",
    "        df[group] = pd.Series(cogs)\n",
    "\n",
    "    df = df.fillna(0).astype(int)\n",
    "    df.columns.name = questions_labels.get(attribut, attribut)\n",
    "    df.index.name = \"Mot énoncé\"\n",
    "    # df_gad\n",
    "\n",
    "    row_margin = df.sum(axis=1)\n",
    "    col_margin = df.sum(axis=0)\n",
    "\n",
    "    # les mots énoncés au moins 20x pour les classes qui énoncent au moins 100 mots\n",
    "    return df.loc[row_margin > ROW_THRESHOLD, col_margin > COL_THRESHOLD]\n",
    "\n",
    "\n",
    "# gen_ca_dataset(\"Question 8.2\")"
   ]
  },
  {
   "cell_type": "code",
   "execution_count": null,
   "metadata": {},
   "outputs": [],
   "source": [
    "sns.set_theme(style=\"whitegrid\", font_scale=1.10, rc={\"figure.figsize\": (16, 12)})\n",
    "ca = CA(42)\n",
    "\n",
    "for attribut in [\"GAD\", \"Question 8.1\", \"Question 8.2\"]:\n",
    "    ref = gen_ca_dataset(attribut)\n",
    "    display(ref.sort_index())\n",
    "    ca.fit(ref)\n",
    "    # ca.plot(coords=(\"principal\", \"standard\"))\n",
    "    # plt.show()\n",
    "    # ca.plot(coords=(\"standard\", \"principal\"))\n",
    "    # plt.show()\n",
    "    ca.plot(coords=(\"principal\", \"principal\"), legend=None)\n",
    "    plt.show()\n"
   ]
  }
 ],
 "metadata": {
  "interpreter": {
   "hash": "8a94588eda9d64d9e9a351ab8144e55b1fabf5113b54e67dd26a8c27df0381b3"
  },
  "kernelspec": {
   "display_name": "Python 3.10.2 64-bit",
   "language": "python",
   "name": "python3"
  },
  "language_info": {
   "codemirror_mode": {
    "name": "ipython",
    "version": 3
   },
   "file_extension": ".py",
   "mimetype": "text/x-python",
   "name": "python",
   "nbconvert_exporter": "python",
   "pygments_lexer": "ipython3",
   "version": "3.10.4"
  },
  "orig_nbformat": 4
 },
 "nbformat": 4,
 "nbformat_minor": 2
}
